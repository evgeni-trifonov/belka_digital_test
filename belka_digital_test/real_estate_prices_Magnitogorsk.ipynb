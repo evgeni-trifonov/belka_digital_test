{
 "cells": [
  {
   "cell_type": "code",
   "execution_count": 1,
   "id": "a2afcef9",
   "metadata": {},
   "outputs": [],
   "source": [
    "import pandas as pd\n",
    "import numpy as np\n",
    "from matplotlib import pyplot as plt\n",
    "import seaborn as sns\n",
    "from sklearn.model_selection import train_test_split, GridSearchCV\n",
    "from sklearn.linear_model import LinearRegression\n",
    "from sklearn.compose import ColumnTransformer\n",
    "from sklearn.preprocessing import StandardScaler, RobustScaler, LabelEncoder, OneHotEncoder\n",
    "from sklearn.metrics import mean_absolute_error,r2_score\n",
    "import sklearn\n",
    "from sklearn.model_selection import cross_val_score"
   ]
  },
  {
   "cell_type": "markdown",
   "id": "e07389c3",
   "metadata": {},
   "source": [
    "Считываем данные о квартирах."
   ]
  },
  {
   "cell_type": "code",
   "execution_count": 3,
   "id": "18d90607",
   "metadata": {},
   "outputs": [
    {
     "data": {
      "text/html": [
       "<div>\n",
       "<style scoped>\n",
       "    .dataframe tbody tr th:only-of-type {\n",
       "        vertical-align: middle;\n",
       "    }\n",
       "\n",
       "    .dataframe tbody tr th {\n",
       "        vertical-align: top;\n",
       "    }\n",
       "\n",
       "    .dataframe thead th {\n",
       "        text-align: right;\n",
       "    }\n",
       "</style>\n",
       "<table border=\"1\" class=\"dataframe\">\n",
       "  <thead>\n",
       "    <tr style=\"text-align: right;\">\n",
       "      <th></th>\n",
       "      <th>address</th>\n",
       "      <th>price</th>\n",
       "      <th>area</th>\n",
       "      <th>rooms</th>\n",
       "      <th>floor</th>\n",
       "      <th>condition</th>\n",
       "      <th>district</th>\n",
       "    </tr>\n",
       "  </thead>\n",
       "  <tbody>\n",
       "    <tr>\n",
       "      <th>0</th>\n",
       "      <td>уральская, 8/1</td>\n",
       "      <td>2800000.0</td>\n",
       "      <td>81.6</td>\n",
       "      <td>3</td>\n",
       "      <td>1</td>\n",
       "      <td>4</td>\n",
       "      <td>0</td>\n",
       "    </tr>\n",
       "    <tr>\n",
       "      <th>1</th>\n",
       "      <td>Уральская, 9</td>\n",
       "      <td>1500000.0</td>\n",
       "      <td>53.0</td>\n",
       "      <td>2</td>\n",
       "      <td>3</td>\n",
       "      <td>4</td>\n",
       "      <td>0</td>\n",
       "    </tr>\n",
       "    <tr>\n",
       "      <th>2</th>\n",
       "      <td>Вокзальная, 134/1</td>\n",
       "      <td>2150000.0</td>\n",
       "      <td>41.0</td>\n",
       "      <td>2</td>\n",
       "      <td>2</td>\n",
       "      <td>3</td>\n",
       "      <td>0</td>\n",
       "    </tr>\n",
       "    <tr>\n",
       "      <th>3</th>\n",
       "      <td>спартаковский перулок, 10/1</td>\n",
       "      <td>300000.0</td>\n",
       "      <td>34.5</td>\n",
       "      <td>1</td>\n",
       "      <td>3</td>\n",
       "      <td>2</td>\n",
       "      <td>0</td>\n",
       "    </tr>\n",
       "    <tr>\n",
       "      <th>4</th>\n",
       "      <td>Чапаева, 11</td>\n",
       "      <td>3000000.0</td>\n",
       "      <td>61.0</td>\n",
       "      <td>2</td>\n",
       "      <td>3</td>\n",
       "      <td>2</td>\n",
       "      <td>0</td>\n",
       "    </tr>\n",
       "  </tbody>\n",
       "</table>\n",
       "</div>"
      ],
      "text/plain": [
       "                        address      price  area  rooms  floor  condition  \\\n",
       "0               уральская, 8/1   2800000.0  81.6      3      1          4   \n",
       "1                 Уральская, 9   1500000.0  53.0      2      3          4   \n",
       "2            Вокзальная, 134/1   2150000.0  41.0      2      2          3   \n",
       "3  спартаковский перулок, 10/1    300000.0  34.5      1      3          2   \n",
       "4                  Чапаева, 11   3000000.0  61.0      2      3          2   \n",
       "\n",
       "   district  \n",
       "0         0  \n",
       "1         0  \n",
       "2         0  \n",
       "3         0  \n",
       "4         0  "
      ]
     },
     "execution_count": 3,
     "metadata": {},
     "output_type": "execute_result"
    }
   ],
   "source": [
    "df = pd.read_csv('mgn_real_estate.csv', sep = '|')\n",
    "df.columns=['address','price','area','rooms','floor','condition','district']\n",
    "df.head()"
   ]
  },
  {
   "cell_type": "markdown",
   "id": "684a59e2",
   "metadata": {},
   "source": [
    "Первичная информация о данных"
   ]
  },
  {
   "cell_type": "code",
   "execution_count": 4,
   "id": "2df590ea",
   "metadata": {},
   "outputs": [
    {
     "name": "stdout",
     "output_type": "stream",
     "text": [
      "<class 'pandas.core.frame.DataFrame'>\n",
      "RangeIndex: 278 entries, 0 to 277\n",
      "Data columns (total 7 columns):\n",
      " #   Column     Non-Null Count  Dtype  \n",
      "---  ------     --------------  -----  \n",
      " 0   address    278 non-null    object \n",
      " 1   price      278 non-null    float64\n",
      " 2   area       278 non-null    float64\n",
      " 3   rooms      278 non-null    int64  \n",
      " 4   floor      278 non-null    int64  \n",
      " 5   condition  278 non-null    int64  \n",
      " 6   district   278 non-null    int64  \n",
      "dtypes: float64(2), int64(4), object(1)\n",
      "memory usage: 15.3+ KB\n",
      "None\n"
     ]
    },
    {
     "data": {
      "text/plain": [
       "count    2.780000e+02\n",
       "mean     3.221076e+06\n",
       "std      1.355387e+06\n",
       "min      3.000000e+05\n",
       "25%      2.300000e+06\n",
       "50%      3.050000e+06\n",
       "75%      3.772500e+06\n",
       "max      8.750000e+06\n",
       "Name: price, dtype: float64"
      ]
     },
     "execution_count": 4,
     "metadata": {},
     "output_type": "execute_result"
    }
   ],
   "source": [
    "print(df.info())\n",
    "df.price.describe()"
   ]
  },
  {
   "cell_type": "markdown",
   "id": "3cd65b25",
   "metadata": {},
   "source": [
    "Есть выбросы (outliers), такие, как очень маленькая цена"
   ]
  },
  {
   "cell_type": "code",
   "execution_count": 5,
   "id": "c4df5311",
   "metadata": {},
   "outputs": [
    {
     "data": {
      "text/html": [
       "<div>\n",
       "<style scoped>\n",
       "    .dataframe tbody tr th:only-of-type {\n",
       "        vertical-align: middle;\n",
       "    }\n",
       "\n",
       "    .dataframe tbody tr th {\n",
       "        vertical-align: top;\n",
       "    }\n",
       "\n",
       "    .dataframe thead th {\n",
       "        text-align: right;\n",
       "    }\n",
       "</style>\n",
       "<table border=\"1\" class=\"dataframe\">\n",
       "  <thead>\n",
       "    <tr style=\"text-align: right;\">\n",
       "      <th></th>\n",
       "      <th>address</th>\n",
       "      <th>price</th>\n",
       "      <th>area</th>\n",
       "      <th>rooms</th>\n",
       "      <th>floor</th>\n",
       "      <th>condition</th>\n",
       "      <th>district</th>\n",
       "    </tr>\n",
       "  </thead>\n",
       "  <tbody>\n",
       "    <tr>\n",
       "      <th>3</th>\n",
       "      <td>спартаковский перулок, 10/1</td>\n",
       "      <td>300000.0</td>\n",
       "      <td>34.5</td>\n",
       "      <td>1</td>\n",
       "      <td>3</td>\n",
       "      <td>2</td>\n",
       "      <td>0</td>\n",
       "    </tr>\n",
       "    <tr>\n",
       "      <th>241</th>\n",
       "      <td>Ленина пр-т, 93</td>\n",
       "      <td>1100000.0</td>\n",
       "      <td>40.0</td>\n",
       "      <td>1</td>\n",
       "      <td>1</td>\n",
       "      <td>1</td>\n",
       "      <td>1</td>\n",
       "    </tr>\n",
       "    <tr>\n",
       "      <th>243</th>\n",
       "      <td>Ленина пр-т, 98/1</td>\n",
       "      <td>900000.0</td>\n",
       "      <td>22.0</td>\n",
       "      <td>1</td>\n",
       "      <td>2</td>\n",
       "      <td>0</td>\n",
       "      <td>1</td>\n",
       "    </tr>\n",
       "  </tbody>\n",
       "</table>\n",
       "</div>"
      ],
      "text/plain": [
       "                          address      price  area  rooms  floor  condition  \\\n",
       "3    спартаковский перулок, 10/1    300000.0  34.5      1      3          2   \n",
       "241              Ленина пр-т, 93   1100000.0  40.0      1      1          1   \n",
       "243            Ленина пр-т, 98/1    900000.0  22.0      1      2          0   \n",
       "\n",
       "     district  \n",
       "3           0  \n",
       "241         1  \n",
       "243         1  "
      ]
     },
     "execution_count": 5,
     "metadata": {},
     "output_type": "execute_result"
    }
   ],
   "source": [
    "df[df.price<=1100000]"
   ]
  },
  {
   "cell_type": "markdown",
   "id": "e8a1d0c3",
   "metadata": {},
   "source": [
    "Удаляем эту странно дешёвую квартиру в Спартаковском переулке."
   ]
  },
  {
   "cell_type": "code",
   "execution_count": 6,
   "id": "9e4b2801",
   "metadata": {
    "scrolled": false
   },
   "outputs": [
    {
     "data": {
      "text/html": [
       "<div>\n",
       "<style scoped>\n",
       "    .dataframe tbody tr th:only-of-type {\n",
       "        vertical-align: middle;\n",
       "    }\n",
       "\n",
       "    .dataframe tbody tr th {\n",
       "        vertical-align: top;\n",
       "    }\n",
       "\n",
       "    .dataframe thead th {\n",
       "        text-align: right;\n",
       "    }\n",
       "</style>\n",
       "<table border=\"1\" class=\"dataframe\">\n",
       "  <thead>\n",
       "    <tr style=\"text-align: right;\">\n",
       "      <th></th>\n",
       "      <th>address</th>\n",
       "      <th>price</th>\n",
       "      <th>area</th>\n",
       "      <th>rooms</th>\n",
       "      <th>floor</th>\n",
       "      <th>condition</th>\n",
       "      <th>district</th>\n",
       "    </tr>\n",
       "  </thead>\n",
       "  <tbody>\n",
       "    <tr>\n",
       "      <th>0</th>\n",
       "      <td>Ленина пр-т, 98/1</td>\n",
       "      <td>900000.0</td>\n",
       "      <td>22.0</td>\n",
       "      <td>1</td>\n",
       "      <td>2</td>\n",
       "      <td>0</td>\n",
       "      <td>1</td>\n",
       "    </tr>\n",
       "    <tr>\n",
       "      <th>1</th>\n",
       "      <td>Ленина пр-т, 93</td>\n",
       "      <td>1100000.0</td>\n",
       "      <td>40.0</td>\n",
       "      <td>1</td>\n",
       "      <td>1</td>\n",
       "      <td>1</td>\n",
       "      <td>1</td>\n",
       "    </tr>\n",
       "    <tr>\n",
       "      <th>2</th>\n",
       "      <td>Первомайская, 26/1</td>\n",
       "      <td>1150000.0</td>\n",
       "      <td>23.7</td>\n",
       "      <td>1</td>\n",
       "      <td>1</td>\n",
       "      <td>2</td>\n",
       "      <td>0</td>\n",
       "    </tr>\n",
       "    <tr>\n",
       "      <th>3</th>\n",
       "      <td>Ленина пр-т, 98/1</td>\n",
       "      <td>1310000.0</td>\n",
       "      <td>22.0</td>\n",
       "      <td>1</td>\n",
       "      <td>3</td>\n",
       "      <td>3</td>\n",
       "      <td>1</td>\n",
       "    </tr>\n",
       "    <tr>\n",
       "      <th>4</th>\n",
       "      <td>Фадеева, 16</td>\n",
       "      <td>1346654.0</td>\n",
       "      <td>42.5</td>\n",
       "      <td>2</td>\n",
       "      <td>3</td>\n",
       "      <td>3</td>\n",
       "      <td>4</td>\n",
       "    </tr>\n",
       "    <tr>\n",
       "      <th>...</th>\n",
       "      <td>...</td>\n",
       "      <td>...</td>\n",
       "      <td>...</td>\n",
       "      <td>...</td>\n",
       "      <td>...</td>\n",
       "      <td>...</td>\n",
       "      <td>...</td>\n",
       "    </tr>\n",
       "    <tr>\n",
       "      <th>272</th>\n",
       "      <td>Куйбышева, 20</td>\n",
       "      <td>8000000.0</td>\n",
       "      <td>136.7</td>\n",
       "      <td>4</td>\n",
       "      <td>2</td>\n",
       "      <td>4</td>\n",
       "      <td>0</td>\n",
       "    </tr>\n",
       "    <tr>\n",
       "      <th>273</th>\n",
       "      <td>Ленина пр-т, 25</td>\n",
       "      <td>8200000.0</td>\n",
       "      <td>188.0</td>\n",
       "      <td>5</td>\n",
       "      <td>2</td>\n",
       "      <td>3</td>\n",
       "      <td>0</td>\n",
       "    </tr>\n",
       "    <tr>\n",
       "      <th>274</th>\n",
       "      <td>Сталеваров, 17/1</td>\n",
       "      <td>8500000.0</td>\n",
       "      <td>160.0</td>\n",
       "      <td>4</td>\n",
       "      <td>3</td>\n",
       "      <td>4</td>\n",
       "      <td>1</td>\n",
       "    </tr>\n",
       "    <tr>\n",
       "      <th>275</th>\n",
       "      <td>Ленина пр-т, 135</td>\n",
       "      <td>8700000.0</td>\n",
       "      <td>132.0</td>\n",
       "      <td>3</td>\n",
       "      <td>3</td>\n",
       "      <td>4</td>\n",
       "      <td>2</td>\n",
       "    </tr>\n",
       "    <tr>\n",
       "      <th>276</th>\n",
       "      <td>Комарова, 31</td>\n",
       "      <td>8750000.0</td>\n",
       "      <td>127.0</td>\n",
       "      <td>4</td>\n",
       "      <td>3</td>\n",
       "      <td>3</td>\n",
       "      <td>0</td>\n",
       "    </tr>\n",
       "  </tbody>\n",
       "</table>\n",
       "<p>277 rows × 7 columns</p>\n",
       "</div>"
      ],
      "text/plain": [
       "                 address      price   area  rooms  floor  condition  district\n",
       "0     Ленина пр-т, 98/1    900000.0   22.0      1      2          0         1\n",
       "1       Ленина пр-т, 93   1100000.0   40.0      1      1          1         1\n",
       "2    Первомайская, 26/1   1150000.0   23.7      1      1          2         0\n",
       "3     Ленина пр-т, 98/1   1310000.0   22.0      1      3          3         1\n",
       "4           Фадеева, 16   1346654.0   42.5      2      3          3         4\n",
       "..                   ...        ...    ...    ...    ...        ...       ...\n",
       "272       Куйбышева, 20   8000000.0  136.7      4      2          4         0\n",
       "273     Ленина пр-т, 25   8200000.0  188.0      5      2          3         0\n",
       "274    Сталеваров, 17/1   8500000.0  160.0      4      3          4         1\n",
       "275    Ленина пр-т, 135   8700000.0  132.0      3      3          4         2\n",
       "276        Комарова, 31   8750000.0  127.0      4      3          3         0\n",
       "\n",
       "[277 rows x 7 columns]"
      ]
     },
     "execution_count": 6,
     "metadata": {},
     "output_type": "execute_result"
    }
   ],
   "source": [
    "df.drop(df[df.index == 3].index, inplace = True)\n",
    "df = df.sort_values(by = 'price')\n",
    "df.reset_index(inplace = True, drop = True)\n",
    "df"
   ]
  },
  {
   "cell_type": "code",
   "execution_count": 7,
   "id": "92b15d14",
   "metadata": {
    "scrolled": true
   },
   "outputs": [
    {
     "data": {
      "text/plain": [
       "count    2.770000e+02\n",
       "mean     3.231621e+06\n",
       "std      1.346366e+06\n",
       "min      9.000000e+05\n",
       "25%      2.300000e+06\n",
       "50%      3.050000e+06\n",
       "75%      3.780000e+06\n",
       "max      8.750000e+06\n",
       "Name: price, dtype: float64"
      ]
     },
     "execution_count": 7,
     "metadata": {},
     "output_type": "execute_result"
    }
   ],
   "source": [
    "df.price.describe()"
   ]
  },
  {
   "cell_type": "markdown",
   "id": "d8bc5892",
   "metadata": {},
   "source": [
    "Строим график зависимости цены от площади и района. Видно, что квартиры на Левом дешевле, что естественно. Также видно, что при больших площадях цена выходит на полочку. Это свидетельствует о насыщении спроса на дорогие квартиры,\n",
    "а также о нелинейной зависимости."
   ]
  },
  {
   "cell_type": "code",
   "execution_count": 8,
   "id": "b6cb19bc",
   "metadata": {
    "scrolled": true
   },
   "outputs": [
    {
     "data": {
      "text/plain": [
       "<AxesSubplot:xlabel='area', ylabel='price'>"
      ]
     },
     "execution_count": 8,
     "metadata": {},
     "output_type": "execute_result"
    },
    {
     "data": {
      "image/png": "[encoded data removed]",
      "text/plain": [
       "<Figure size 864x432 with 1 Axes>"
      ]
     },
     "metadata": {
      "needs_background": "light"
     },
     "output_type": "display_data"
    }
   ],
   "source": [
    "plt.figure(figsize=(12,6))\n",
    "sns.scatterplot(data=df, x='area', y='price', hue='district')"
   ]
  },
  {
   "cell_type": "code",
   "execution_count": 9,
   "id": "8f846d35",
   "metadata": {
    "scrolled": false
   },
   "outputs": [
    {
     "name": "stdout",
     "output_type": "stream",
     "text": [
      "<class 'pandas.core.frame.DataFrame'>\n",
      "RangeIndex: 277 entries, 0 to 276\n",
      "Data columns (total 7 columns):\n",
      " #   Column     Non-Null Count  Dtype  \n",
      "---  ------     --------------  -----  \n",
      " 0   address    277 non-null    object \n",
      " 1   price      277 non-null    float64\n",
      " 2   area       277 non-null    float64\n",
      " 3   rooms      277 non-null    int64  \n",
      " 4   floor      277 non-null    int64  \n",
      " 5   condition  277 non-null    int64  \n",
      " 6   district   277 non-null    int64  \n",
      "dtypes: float64(2), int64(4), object(1)\n",
      "memory usage: 15.3+ KB\n"
     ]
    }
   ],
   "source": [
    "df.info()"
   ]
  },
  {
   "cell_type": "markdown",
   "id": "18d04e94",
   "metadata": {},
   "source": [
    "Исследуем матрицу корреляции. Наибольшее влияние на цену оказывают, конечно, площадь и количество комнат. Но такве заметно влияет состояние квартиры, не зря включали этот признак."
   ]
  },
  {
   "cell_type": "code",
   "execution_count": 10,
   "id": "71ea825c",
   "metadata": {},
   "outputs": [
    {
     "data": {
      "text/plain": [
       "<AxesSubplot:>"
      ]
     },
     "execution_count": 10,
     "metadata": {},
     "output_type": "execute_result"
    },
    {
     "data": {
      "image/png": "[encoded data removed]",
      "text/plain": [
       "<Figure size 1080x504 with 2 Axes>"
      ]
     },
     "metadata": {
      "needs_background": "light"
     },
     "output_type": "display_data"
    }
   ],
   "source": [
    "plt.figure(figsize=(15,7))\n",
    "sns.heatmap(df.corr(),annot=True,cmap='viridis')"
   ]
  },
  {
   "cell_type": "code",
   "execution_count": 11,
   "id": "eb465bd0",
   "metadata": {
    "scrolled": true
   },
   "outputs": [
    {
     "data": {
      "text/html": [
       "<div>\n",
       "<style scoped>\n",
       "    .dataframe tbody tr th:only-of-type {\n",
       "        vertical-align: middle;\n",
       "    }\n",
       "\n",
       "    .dataframe tbody tr th {\n",
       "        vertical-align: top;\n",
       "    }\n",
       "\n",
       "    .dataframe thead th {\n",
       "        text-align: right;\n",
       "    }\n",
       "</style>\n",
       "<table border=\"1\" class=\"dataframe\">\n",
       "  <thead>\n",
       "    <tr style=\"text-align: right;\">\n",
       "      <th></th>\n",
       "      <th>address</th>\n",
       "      <th>price</th>\n",
       "      <th>area</th>\n",
       "      <th>rooms</th>\n",
       "      <th>floor</th>\n",
       "      <th>condition</th>\n",
       "      <th>district</th>\n",
       "    </tr>\n",
       "  </thead>\n",
       "  <tbody>\n",
       "    <tr>\n",
       "      <th>0</th>\n",
       "      <td>Ленина пр-т, 98/1</td>\n",
       "      <td>900000.0</td>\n",
       "      <td>22.0</td>\n",
       "      <td>1</td>\n",
       "      <td>2</td>\n",
       "      <td>0</td>\n",
       "      <td>1</td>\n",
       "    </tr>\n",
       "    <tr>\n",
       "      <th>1</th>\n",
       "      <td>Ленина пр-т, 93</td>\n",
       "      <td>1100000.0</td>\n",
       "      <td>40.0</td>\n",
       "      <td>1</td>\n",
       "      <td>1</td>\n",
       "      <td>1</td>\n",
       "      <td>1</td>\n",
       "    </tr>\n",
       "    <tr>\n",
       "      <th>2</th>\n",
       "      <td>Первомайская, 26/1</td>\n",
       "      <td>1150000.0</td>\n",
       "      <td>23.7</td>\n",
       "      <td>1</td>\n",
       "      <td>1</td>\n",
       "      <td>2</td>\n",
       "      <td>0</td>\n",
       "    </tr>\n",
       "    <tr>\n",
       "      <th>3</th>\n",
       "      <td>Ленина пр-т, 98/1</td>\n",
       "      <td>1310000.0</td>\n",
       "      <td>22.0</td>\n",
       "      <td>1</td>\n",
       "      <td>3</td>\n",
       "      <td>3</td>\n",
       "      <td>1</td>\n",
       "    </tr>\n",
       "    <tr>\n",
       "      <th>4</th>\n",
       "      <td>Фадеева, 16</td>\n",
       "      <td>1346654.0</td>\n",
       "      <td>42.5</td>\n",
       "      <td>2</td>\n",
       "      <td>3</td>\n",
       "      <td>3</td>\n",
       "      <td>4</td>\n",
       "    </tr>\n",
       "  </tbody>\n",
       "</table>\n",
       "</div>"
      ],
      "text/plain": [
       "               address      price  area  rooms  floor  condition  district\n",
       "0   Ленина пр-т, 98/1    900000.0  22.0      1      2          0         1\n",
       "1     Ленина пр-т, 93   1100000.0  40.0      1      1          1         1\n",
       "2  Первомайская, 26/1   1150000.0  23.7      1      1          2         0\n",
       "3   Ленина пр-т, 98/1   1310000.0  22.0      1      3          3         1\n",
       "4         Фадеева, 16   1346654.0  42.5      2      3          3         4"
      ]
     },
     "execution_count": 11,
     "metadata": {},
     "output_type": "execute_result"
    }
   ],
   "source": [
    "df.head()"
   ]
  },
  {
   "cell_type": "markdown",
   "id": "fe7eea00",
   "metadata": {},
   "source": [
    "Итак, имеем имеем 2 числовых признака (площадь и количество комнат) и 3 категориальных (этаж, состояние квартиры, район), итого 5."
   ]
  },
  {
   "cell_type": "code",
   "execution_count": 12,
   "id": "cdc21587",
   "metadata": {},
   "outputs": [
    {
     "name": "stdout",
     "output_type": "stream",
     "text": [
      "Linear Regression\n",
      "r2: 0.8876451701771881\n"
     ]
    }
   ],
   "source": [
    "y = df['price']\n",
    "X = df.iloc[:, list(range(2,7))]\n",
    "numerical_features = ['area', 'rooms']\n",
    "categorical_features = ['floor', 'condition', 'district']\n",
    "pre_cat = ColumnTransformer(\n",
    "    transformers=[\n",
    "        ('num', 'passthrough', numerical_features),\n",
    "        (\"cat\", OneHotEncoder(), categorical_features)]).fit(X)\n",
    "X = pre_cat.transform(X)\n",
    "X_train, X_test, y_train, y_test = train_test_split(X, y, test_size=0.2, shuffle=True, random_state=37)\n",
    "lr_mod = LinearRegression().fit(X_train,y_train)\n",
    "print('Linear Regression')\n",
    "print('r2:', r2_score(y_test,lr_mod.predict(X_test)))"
   ]
  },
  {
   "cell_type": "markdown",
   "id": "efac8dd7",
   "metadata": {},
   "source": [
    "Теперь, следуя рассмотрению графика цены от площади выше, добавим нелинейность - квадрат от плотности."
   ]
  },
  {
   "cell_type": "code",
   "execution_count": 13,
   "id": "891fc28e",
   "metadata": {},
   "outputs": [],
   "source": [
    "from sklearn.preprocessing import PolynomialFeatures\n",
    "from sklearn_pandas import DataFrameMapper"
   ]
  },
  {
   "cell_type": "code",
   "execution_count": 14,
   "id": "ad91cc5d",
   "metadata": {},
   "outputs": [
    {
     "name": "stdout",
     "output_type": "stream",
     "text": [
      "Polynomial Regression\n",
      "r2: 0.9253249066071462\n"
     ]
    }
   ],
   "source": [
    "X, y = df.iloc[:, list(range(2,7))],df['price']\n",
    "numerical_features = ['area', 'rooms']\n",
    "categorical_features = ['floor', 'condition', 'district']\n",
    "pre_cat = ColumnTransformer(\n",
    "    transformers=[\n",
    "        ('num', PolynomialFeatures(degree=2), numerical_features),\n",
    "        (\"cat\", OneHotEncoder(), categorical_features)]).fit(X)\n",
    "X = pre_cat.transform(X)\n",
    "X_train, X_test, y_train, y_test = train_test_split(X, y, test_size=0.2, shuffle=True, random_state=29)\n",
    "polynomial_regression_model = LinearRegression().fit(X_train,y_train)\n",
    "   #print(i, r2_score(y_test,lr_mod.predict(X_test)))\n",
    "print('Polynomial Regression')\n",
    "print('r2:', r2_score(y_test, polynomial_regression_model.predict(X_test)))"
   ]
  },
  {
   "cell_type": "markdown",
   "id": "c56deebb",
   "metadata": {},
   "source": [
    "Сохраняем модель"
   ]
  },
  {
   "cell_type": "code",
   "execution_count": 15,
   "id": "09134446",
   "metadata": {},
   "outputs": [],
   "source": [
    "import pickle\n",
    "with open('column_transform.pkl', 'wb') as ct:\n",
    "    pickle.dump(pre_cat, ct)\n",
    "\n",
    "with open('model.pkl','wb') as f:\n",
    "    pickle.dump(polynomial_regression_model, f)"
   ]
  },
  {
   "cell_type": "code",
   "execution_count": 16,
   "id": "21148b15",
   "metadata": {},
   "outputs": [
    {
     "data": {
      "text/html": [
       "<div>\n",
       "<style scoped>\n",
       "    .dataframe tbody tr th:only-of-type {\n",
       "        vertical-align: middle;\n",
       "    }\n",
       "\n",
       "    .dataframe tbody tr th {\n",
       "        vertical-align: top;\n",
       "    }\n",
       "\n",
       "    .dataframe thead th {\n",
       "        text-align: right;\n",
       "    }\n",
       "</style>\n",
       "<table border=\"1\" class=\"dataframe\">\n",
       "  <thead>\n",
       "    <tr style=\"text-align: right;\">\n",
       "      <th></th>\n",
       "      <th>address</th>\n",
       "      <th>price</th>\n",
       "      <th>area</th>\n",
       "      <th>rooms</th>\n",
       "      <th>floor</th>\n",
       "      <th>condition</th>\n",
       "      <th>district</th>\n",
       "      <th>area_squared</th>\n",
       "    </tr>\n",
       "  </thead>\n",
       "  <tbody>\n",
       "    <tr>\n",
       "      <th>0</th>\n",
       "      <td>Ленина пр-т, 98/1</td>\n",
       "      <td>900000.0</td>\n",
       "      <td>22.0</td>\n",
       "      <td>1</td>\n",
       "      <td>2</td>\n",
       "      <td>0</td>\n",
       "      <td>1</td>\n",
       "      <td>484.00</td>\n",
       "    </tr>\n",
       "    <tr>\n",
       "      <th>1</th>\n",
       "      <td>Ленина пр-т, 93</td>\n",
       "      <td>1100000.0</td>\n",
       "      <td>40.0</td>\n",
       "      <td>1</td>\n",
       "      <td>1</td>\n",
       "      <td>1</td>\n",
       "      <td>1</td>\n",
       "      <td>1600.00</td>\n",
       "    </tr>\n",
       "    <tr>\n",
       "      <th>2</th>\n",
       "      <td>Первомайская, 26/1</td>\n",
       "      <td>1150000.0</td>\n",
       "      <td>23.7</td>\n",
       "      <td>1</td>\n",
       "      <td>1</td>\n",
       "      <td>2</td>\n",
       "      <td>0</td>\n",
       "      <td>561.69</td>\n",
       "    </tr>\n",
       "    <tr>\n",
       "      <th>3</th>\n",
       "      <td>Ленина пр-т, 98/1</td>\n",
       "      <td>1310000.0</td>\n",
       "      <td>22.0</td>\n",
       "      <td>1</td>\n",
       "      <td>3</td>\n",
       "      <td>3</td>\n",
       "      <td>1</td>\n",
       "      <td>484.00</td>\n",
       "    </tr>\n",
       "    <tr>\n",
       "      <th>4</th>\n",
       "      <td>Фадеева, 16</td>\n",
       "      <td>1346654.0</td>\n",
       "      <td>42.5</td>\n",
       "      <td>2</td>\n",
       "      <td>3</td>\n",
       "      <td>3</td>\n",
       "      <td>4</td>\n",
       "      <td>1806.25</td>\n",
       "    </tr>\n",
       "  </tbody>\n",
       "</table>\n",
       "</div>"
      ],
      "text/plain": [
       "               address      price  area  rooms  floor  condition  district  \\\n",
       "0   Ленина пр-т, 98/1    900000.0  22.0      1      2          0         1   \n",
       "1     Ленина пр-т, 93   1100000.0  40.0      1      1          1         1   \n",
       "2  Первомайская, 26/1   1150000.0  23.7      1      1          2         0   \n",
       "3   Ленина пр-т, 98/1   1310000.0  22.0      1      3          3         1   \n",
       "4         Фадеева, 16   1346654.0  42.5      2      3          3         4   \n",
       "\n",
       "   area_squared  \n",
       "0        484.00  \n",
       "1       1600.00  \n",
       "2        561.69  \n",
       "3        484.00  \n",
       "4       1806.25  "
      ]
     },
     "execution_count": 16,
     "metadata": {},
     "output_type": "execute_result"
    }
   ],
   "source": [
    "#ndf = df.join(pd.DataFrame({'area_squared': df['area']**2}))\n",
    "ndf = pd.concat([df,pd.DataFrame({'area_squared': df['area']**2})], axis = 1)\n",
    "ndf.head()"
   ]
  },
  {
   "cell_type": "code",
   "execution_count": 17,
   "id": "2c375470",
   "metadata": {},
   "outputs": [
    {
     "data": {
      "text/html": [
       "        <script type=\"text/javascript\">\n",
       "        window.PlotlyConfig = {MathJaxConfig: 'local'};\n",
       "        if (window.MathJax) {MathJax.Hub.Config({SVG: {font: \"STIX-Web\"}});}\n",
       "        if (typeof require !== 'undefined') {\n",
       "        require.undef(\"plotly\");\n",
       "        requirejs.config({\n",
       "            paths: {\n",
       "                'plotly': ['https://cdn.plot.ly/plotly-2.6.3.min']\n",
       "            }\n",
       "        });\n",
       "        require(['plotly'], function(Plotly) {\n",
       "            window._Plotly = Plotly;\n",
       "        });\n",
       "        }\n",
       "        </script>\n",
       "        "
      ]
     },
     "metadata": {},
     "output_type": "display_data"
    }
   ],
   "source": [
    "import numpy as np # linear algebra\n",
    "import pandas as pd # data processing, CSV file I/O (e.g. pd.read_csv)\n",
    "import os\n",
    "import pandas as pd\n",
    "from datetime import datetime\n",
    "from scipy.stats import skew\n",
    "from scipy.special import boxcox1p\n",
    "from scipy.stats import boxcox_normmax\n",
    "import plotly.graph_objs as go\n",
    "import chart_studio.plotly as py\n",
    "import plotly.offline as pyo\n",
    "from plotly import tools\n",
    "from plotly.offline import download_plotlyjs, init_notebook_mode, plot, iplot\n",
    "import plotly_express as px\n",
    "init_notebook_mode(connected=True)\n",
    "from matplotlib import cm\n",
    "from matplotlib import pyplot as plt\n",
    "import seaborn as sns\n",
    "\n",
    "from sklearn.decomposition import PCA\n",
    "from sklearn.cluster import KMeans"
   ]
  },
  {
   "cell_type": "code",
   "execution_count": 18,
   "id": "d74d07d9",
   "metadata": {},
   "outputs": [
    {
     "name": "stdout",
     "output_type": "stream",
     "text": [
      "   area  rooms  floor  condition\n",
      "0  22.0      1      2          0\n",
      "1  40.0      1      1          1\n",
      "2  23.7      1      1          2\n",
      "3  22.0      1      3          3\n",
      "4  42.5      2      3          3\n"
     ]
    },
    {
     "data": {
      "text/plain": [
       "((277, 4), (277,))"
      ]
     },
     "execution_count": 18,
     "metadata": {},
     "output_type": "execute_result"
    }
   ],
   "source": [
    "y = np.log1p(ndf.price)\n",
    "#y = ndf.price\n",
    "X = ndf.drop(['price'], axis=1)\n",
    "X = X.drop(['address'], axis=1)\n",
    "X = X.drop(['district'], axis=1)\n",
    "X = X.drop(['area_squared'], axis=1)\n",
    "print(X.head())\n",
    "X.shape, y.shape"
   ]
  },
  {
   "cell_type": "code",
   "execution_count": 19,
   "id": "01835a00",
   "metadata": {
    "scrolled": true
   },
   "outputs": [
    {
     "data": {
      "application/vnd.plotly.v1+json": {
       "config": {
        "linkText": "Export to plot.ly",
        "plotlyServerURL": "https://plot.ly",
        "showLink": false
       },
       "data": [
        {
         "type": "scatter",
         "y": [
          0.9967344260130366,
          0.9981506477160509,
          0.9994024287464921,
          1
         ]
        }
       ],
       "layout": {
        "template": {
         "data": {
          "bar": [
           {
            "error_x": {
             "color": "#2a3f5f"
            },
            "error_y": {
             "color": "#2a3f5f"
            },
            "marker": {
             "line": {
              "color": "#E5ECF6",
              "width": 0.5
             },
             "pattern": {
              "fillmode": "overlay",
              "size": 10,
              "solidity": 0.2
             }
            },
            "type": "bar"
           }
          ],
          "barpolar": [
           {
            "marker": {
             "line": {
              "color": "#E5ECF6",
              "width": 0.5
             },
             "pattern": {
              "fillmode": "overlay",
              "size": 10,
              "solidity": 0.2
             }
            },
            "type": "barpolar"
           }
          ],
          "carpet": [
           {
            "aaxis": {
             "endlinecolor": "#2a3f5f",
             "gridcolor": "white",
             "linecolor": "white",
             "minorgridcolor": "white",
             "startlinecolor": "#2a3f5f"
            },
            "baxis": {
             "endlinecolor": "#2a3f5f",
             "gridcolor": "white",
             "linecolor": "white",
             "minorgridcolor": "white",
             "startlinecolor": "#2a3f5f"
            },
            "type": "carpet"
           }
          ],
          "choropleth": [
           {
            "colorbar": {
             "outlinewidth": 0,
             "ticks": ""
            },
            "type": "choropleth"
           }
          ],
          "contour": [
           {
            "colorbar": {
             "outlinewidth": 0,
             "ticks": ""
            },
            "colorscale": [
             [
              0,
              "#0d0887"
             ],
             [
              0.1111111111111111,
              "#46039f"
             ],
             [
              0.2222222222222222,
              "#7201a8"
             ],
             [
              0.3333333333333333,
              "#9c179e"
             ],
             [
              0.4444444444444444,
              "#bd3786"
             ],
             [
              0.5555555555555556,
              "#d8576b"
             ],
             [
              0.6666666666666666,
              "#ed7953"
             ],
             [
              0.7777777777777778,
              "#fb9f3a"
             ],
             [
              0.8888888888888888,
              "#fdca26"
             ],
             [
              1,
              "#f0f921"
             ]
            ],
            "type": "contour"
           }
          ],
          "contourcarpet": [
           {
            "colorbar": {
             "outlinewidth": 0,
             "ticks": ""
            },
            "type": "contourcarpet"
           }
          ],
          "heatmap": [
           {
            "colorbar": {
             "outlinewidth": 0,
             "ticks": ""
            },
            "colorscale": [
             [
              0,
              "#0d0887"
             ],
             [
              0.1111111111111111,
              "#46039f"
             ],
             [
              0.2222222222222222,
              "#7201a8"
             ],
             [
              0.3333333333333333,
              "#9c179e"
             ],
             [
              0.4444444444444444,
              "#bd3786"
             ],
             [
              0.5555555555555556,
              "#d8576b"
             ],
             [
              0.6666666666666666,
              "#ed7953"
             ],
             [
              0.7777777777777778,
              "#fb9f3a"
             ],
             [
              0.8888888888888888,
              "#fdca26"
             ],
             [
              1,
              "#f0f921"
             ]
            ],
            "type": "heatmap"
           }
          ],
          "heatmapgl": [
           {
            "colorbar": {
             "outlinewidth": 0,
             "ticks": ""
            },
            "colorscale": [
             [
              0,
              "#0d0887"
             ],
             [
              0.1111111111111111,
              "#46039f"
             ],
             [
              0.2222222222222222,
              "#7201a8"
             ],
             [
              0.3333333333333333,
              "#9c179e"
             ],
             [
              0.4444444444444444,
              "#bd3786"
             ],
             [
              0.5555555555555556,
              "#d8576b"
             ],
             [
              0.6666666666666666,
              "#ed7953"
             ],
             [
              0.7777777777777778,
              "#fb9f3a"
             ],
             [
              0.8888888888888888,
              "#fdca26"
             ],
             [
              1,
              "#f0f921"
             ]
            ],
            "type": "heatmapgl"
           }
          ],
          "histogram": [
           {
            "marker": {
             "pattern": {
              "fillmode": "overlay",
              "size": 10,
              "solidity": 0.2
             }
            },
            "type": "histogram"
           }
          ],
          "histogram2d": [
           {
            "colorbar": {
             "outlinewidth": 0,
             "ticks": ""
            },
            "colorscale": [
             [
              0,
              "#0d0887"
             ],
             [
              0.1111111111111111,
              "#46039f"
             ],
             [
              0.2222222222222222,
              "#7201a8"
             ],
             [
              0.3333333333333333,
              "#9c179e"
             ],
             [
              0.4444444444444444,
              "#bd3786"
             ],
             [
              0.5555555555555556,
              "#d8576b"
             ],
             [
              0.6666666666666666,
              "#ed7953"
             ],
             [
              0.7777777777777778,
              "#fb9f3a"
             ],
             [
              0.8888888888888888,
              "#fdca26"
             ],
             [
              1,
              "#f0f921"
             ]
            ],
            "type": "histogram2d"
           }
          ],
          "histogram2dcontour": [
           {
            "colorbar": {
             "outlinewidth": 0,
             "ticks": ""
            },
            "colorscale": [
             [
              0,
              "#0d0887"
             ],
             [
              0.1111111111111111,
              "#46039f"
             ],
             [
              0.2222222222222222,
              "#7201a8"
             ],
             [
              0.3333333333333333,
              "#9c179e"
             ],
             [
              0.4444444444444444,
              "#bd3786"
             ],
             [
              0.5555555555555556,
              "#d8576b"
             ],
             [
              0.6666666666666666,
              "#ed7953"
             ],
             [
              0.7777777777777778,
              "#fb9f3a"
             ],
             [
              0.8888888888888888,
              "#fdca26"
             ],
             [
              1,
              "#f0f921"
             ]
            ],
            "type": "histogram2dcontour"
           }
          ],
          "mesh3d": [
           {
            "colorbar": {
             "outlinewidth": 0,
             "ticks": ""
            },
            "type": "mesh3d"
           }
          ],
          "parcoords": [
           {
            "line": {
             "colorbar": {
              "outlinewidth": 0,
              "ticks": ""
             }
            },
            "type": "parcoords"
           }
          ],
          "pie": [
           {
            "automargin": true,
            "type": "pie"
           }
          ],
          "scatter": [
           {
            "marker": {
             "colorbar": {
              "outlinewidth": 0,
              "ticks": ""
             }
            },
            "type": "scatter"
           }
          ],
          "scatter3d": [
           {
            "line": {
             "colorbar": {
              "outlinewidth": 0,
              "ticks": ""
             }
            },
            "marker": {
             "colorbar": {
              "outlinewidth": 0,
              "ticks": ""
             }
            },
            "type": "scatter3d"
           }
          ],
          "scattercarpet": [
           {
            "marker": {
             "colorbar": {
              "outlinewidth": 0,
              "ticks": ""
             }
            },
            "type": "scattercarpet"
           }
          ],
          "scattergeo": [
           {
            "marker": {
             "colorbar": {
              "outlinewidth": 0,
              "ticks": ""
             }
            },
            "type": "scattergeo"
           }
          ],
          "scattergl": [
           {
            "marker": {
             "colorbar": {
              "outlinewidth": 0,
              "ticks": ""
             }
            },
            "type": "scattergl"
           }
          ],
          "scattermapbox": [
           {
            "marker": {
             "colorbar": {
              "outlinewidth": 0,
              "ticks": ""
             }
            },
            "type": "scattermapbox"
           }
          ],
          "scatterpolar": [
           {
            "marker": {
             "colorbar": {
              "outlinewidth": 0,
              "ticks": ""
             }
            },
            "type": "scatterpolar"
           }
          ],
          "scatterpolargl": [
           {
            "marker": {
             "colorbar": {
              "outlinewidth": 0,
              "ticks": ""
             }
            },
            "type": "scatterpolargl"
           }
          ],
          "scatterternary": [
           {
            "marker": {
             "colorbar": {
              "outlinewidth": 0,
              "ticks": ""
             }
            },
            "type": "scatterternary"
           }
          ],
          "surface": [
           {
            "colorbar": {
             "outlinewidth": 0,
             "ticks": ""
            },
            "colorscale": [
             [
              0,
              "#0d0887"
             ],
             [
              0.1111111111111111,
              "#46039f"
             ],
             [
              0.2222222222222222,
              "#7201a8"
             ],
             [
              0.3333333333333333,
              "#9c179e"
             ],
             [
              0.4444444444444444,
              "#bd3786"
             ],
             [
              0.5555555555555556,
              "#d8576b"
             ],
             [
              0.6666666666666666,
              "#ed7953"
             ],
             [
              0.7777777777777778,
              "#fb9f3a"
             ],
             [
              0.8888888888888888,
              "#fdca26"
             ],
             [
              1,
              "#f0f921"
             ]
            ],
            "type": "surface"
           }
          ],
          "table": [
           {
            "cells": {
             "fill": {
              "color": "#EBF0F8"
             },
             "line": {
              "color": "white"
             }
            },
            "header": {
             "fill": {
              "color": "#C8D4E3"
             },
             "line": {
              "color": "white"
             }
            },
            "type": "table"
           }
          ]
         },
         "layout": {
          "annotationdefaults": {
           "arrowcolor": "#2a3f5f",
           "arrowhead": 0,
           "arrowwidth": 1
          },
          "autotypenumbers": "strict",
          "coloraxis": {
           "colorbar": {
            "outlinewidth": 0,
            "ticks": ""
           }
          },
          "colorscale": {
           "diverging": [
            [
             0,
             "#8e0152"
            ],
            [
             0.1,
             "#c51b7d"
            ],
            [
             0.2,
             "#de77ae"
            ],
            [
             0.3,
             "#f1b6da"
            ],
            [
             0.4,
             "#fde0ef"
            ],
            [
             0.5,
             "#f7f7f7"
            ],
            [
             0.6,
             "#e6f5d0"
            ],
            [
             0.7,
             "#b8e186"
            ],
            [
             0.8,
             "#7fbc41"
            ],
            [
             0.9,
             "#4d9221"
            ],
            [
             1,
             "#276419"
            ]
           ],
           "sequential": [
            [
             0,
             "#0d0887"
            ],
            [
             0.1111111111111111,
             "#46039f"
            ],
            [
             0.2222222222222222,
             "#7201a8"
            ],
            [
             0.3333333333333333,
             "#9c179e"
            ],
            [
             0.4444444444444444,
             "#bd3786"
            ],
            [
             0.5555555555555556,
             "#d8576b"
            ],
            [
             0.6666666666666666,
             "#ed7953"
            ],
            [
             0.7777777777777778,
             "#fb9f3a"
            ],
            [
             0.8888888888888888,
             "#fdca26"
            ],
            [
             1,
             "#f0f921"
            ]
           ],
           "sequentialminus": [
            [
             0,
             "#0d0887"
            ],
            [
             0.1111111111111111,
             "#46039f"
            ],
            [
             0.2222222222222222,
             "#7201a8"
            ],
            [
             0.3333333333333333,
             "#9c179e"
            ],
            [
             0.4444444444444444,
             "#bd3786"
            ],
            [
             0.5555555555555556,
             "#d8576b"
            ],
            [
             0.6666666666666666,
             "#ed7953"
            ],
            [
             0.7777777777777778,
             "#fb9f3a"
            ],
            [
             0.8888888888888888,
             "#fdca26"
            ],
            [
             1,
             "#f0f921"
            ]
           ]
          },
          "colorway": [
           "#636efa",
           "#EF553B",
           "#00cc96",
           "#ab63fa",
           "#FFA15A",
           "#19d3f3",
           "#FF6692",
           "#B6E880",
           "#FF97FF",
           "#FECB52"
          ],
          "font": {
           "color": "#2a3f5f"
          },
          "geo": {
           "bgcolor": "white",
           "lakecolor": "white",
           "landcolor": "#E5ECF6",
           "showlakes": true,
           "showland": true,
           "subunitcolor": "white"
          },
          "hoverlabel": {
           "align": "left"
          },
          "hovermode": "closest",
          "mapbox": {
           "style": "light"
          },
          "paper_bgcolor": "white",
          "plot_bgcolor": "#E5ECF6",
          "polar": {
           "angularaxis": {
            "gridcolor": "white",
            "linecolor": "white",
            "ticks": ""
           },
           "bgcolor": "#E5ECF6",
           "radialaxis": {
            "gridcolor": "white",
            "linecolor": "white",
            "ticks": ""
           }
          },
          "scene": {
           "xaxis": {
            "backgroundcolor": "#E5ECF6",
            "gridcolor": "white",
            "gridwidth": 2,
            "linecolor": "white",
            "showbackground": true,
            "ticks": "",
            "zerolinecolor": "white"
           },
           "yaxis": {
            "backgroundcolor": "#E5ECF6",
            "gridcolor": "white",
            "gridwidth": 2,
            "linecolor": "white",
            "showbackground": true,
            "ticks": "",
            "zerolinecolor": "white"
           },
           "zaxis": {
            "backgroundcolor": "#E5ECF6",
            "gridcolor": "white",
            "gridwidth": 2,
            "linecolor": "white",
            "showbackground": true,
            "ticks": "",
            "zerolinecolor": "white"
           }
          },
          "shapedefaults": {
           "line": {
            "color": "#2a3f5f"
           }
          },
          "ternary": {
           "aaxis": {
            "gridcolor": "white",
            "linecolor": "white",
            "ticks": ""
           },
           "baxis": {
            "gridcolor": "white",
            "linecolor": "white",
            "ticks": ""
           },
           "bgcolor": "#E5ECF6",
           "caxis": {
            "gridcolor": "white",
            "linecolor": "white",
            "ticks": ""
           }
          },
          "title": {
           "x": 0.05
          },
          "xaxis": {
           "automargin": true,
           "gridcolor": "white",
           "linecolor": "white",
           "ticks": "",
           "title": {
            "standoff": 15
           },
           "zerolinecolor": "white",
           "zerolinewidth": 2
          },
          "yaxis": {
           "automargin": true,
           "gridcolor": "white",
           "linecolor": "white",
           "ticks": "",
           "title": {
            "standoff": 15
           },
           "zerolinecolor": "white",
           "zerolinewidth": 2
          }
         }
        },
        "title": {
         "text": "Review PCA Explained Variance to determine number of components"
        }
       }
      },
      "text/html": [
       "<div>                            <div id=\"5e8984ae-cdef-4055-ac44-52d014cc9252\" class=\"plotly-graph-div\" style=\"height:525px; width:100%;\"></div>            <script type=\"text/javascript\">                require([\"plotly\"], function(Plotly) {                    window.PLOTLYENV=window.PLOTLYENV || {};                                    if (document.getElementById(\"5e8984ae-cdef-4055-ac44-52d014cc9252\")) {                    Plotly.newPlot(                        \"5e8984ae-cdef-4055-ac44-52d014cc9252\",                        [{\"y\":[0.9967344260130366,0.9981506477160509,0.9994024287464921,1.0],\"type\":\"scatter\"}],                        {\"template\":{\"data\":{\"barpolar\":[{\"marker\":{\"line\":{\"color\":\"#E5ECF6\",\"width\":0.5},\"pattern\":{\"fillmode\":\"overlay\",\"size\":10,\"solidity\":0.2}},\"type\":\"barpolar\"}],\"bar\":[{\"error_x\":{\"color\":\"#2a3f5f\"},\"error_y\":{\"color\":\"#2a3f5f\"},\"marker\":{\"line\":{\"color\":\"#E5ECF6\",\"width\":0.5},\"pattern\":{\"fillmode\":\"overlay\",\"size\":10,\"solidity\":0.2}},\"type\":\"bar\"}],\"carpet\":[{\"aaxis\":{\"endlinecolor\":\"#2a3f5f\",\"gridcolor\":\"white\",\"linecolor\":\"white\",\"minorgridcolor\":\"white\",\"startlinecolor\":\"#2a3f5f\"},\"baxis\":{\"endlinecolor\":\"#2a3f5f\",\"gridcolor\":\"white\",\"linecolor\":\"white\",\"minorgridcolor\":\"white\",\"startlinecolor\":\"#2a3f5f\"},\"type\":\"carpet\"}],\"choropleth\":[{\"colorbar\":{\"outlinewidth\":0,\"ticks\":\"\"},\"type\":\"choropleth\"}],\"contourcarpet\":[{\"colorbar\":{\"outlinewidth\":0,\"ticks\":\"\"},\"type\":\"contourcarpet\"}],\"contour\":[{\"colorbar\":{\"outlinewidth\":0,\"ticks\":\"\"},\"colorscale\":[[0.0,\"#0d0887\"],[0.1111111111111111,\"#46039f\"],[0.2222222222222222,\"#7201a8\"],[0.3333333333333333,\"#9c179e\"],[0.4444444444444444,\"#bd3786\"],[0.5555555555555556,\"#d8576b\"],[0.6666666666666666,\"#ed7953\"],[0.7777777777777778,\"#fb9f3a\"],[0.8888888888888888,\"#fdca26\"],[1.0,\"#f0f921\"]],\"type\":\"contour\"}],\"heatmapgl\":[{\"colorbar\":{\"outlinewidth\":0,\"ticks\":\"\"},\"colorscale\":[[0.0,\"#0d0887\"],[0.1111111111111111,\"#46039f\"],[0.2222222222222222,\"#7201a8\"],[0.3333333333333333,\"#9c179e\"],[0.4444444444444444,\"#bd3786\"],[0.5555555555555556,\"#d8576b\"],[0.6666666666666666,\"#ed7953\"],[0.7777777777777778,\"#fb9f3a\"],[0.8888888888888888,\"#fdca26\"],[1.0,\"#f0f921\"]],\"type\":\"heatmapgl\"}],\"heatmap\":[{\"colorbar\":{\"outlinewidth\":0,\"ticks\":\"\"},\"colorscale\":[[0.0,\"#0d0887\"],[0.1111111111111111,\"#46039f\"],[0.2222222222222222,\"#7201a8\"],[0.3333333333333333,\"#9c179e\"],[0.4444444444444444,\"#bd3786\"],[0.5555555555555556,\"#d8576b\"],[0.6666666666666666,\"#ed7953\"],[0.7777777777777778,\"#fb9f3a\"],[0.8888888888888888,\"#fdca26\"],[1.0,\"#f0f921\"]],\"type\":\"heatmap\"}],\"histogram2dcontour\":[{\"colorbar\":{\"outlinewidth\":0,\"ticks\":\"\"},\"colorscale\":[[0.0,\"#0d0887\"],[0.1111111111111111,\"#46039f\"],[0.2222222222222222,\"#7201a8\"],[0.3333333333333333,\"#9c179e\"],[0.4444444444444444,\"#bd3786\"],[0.5555555555555556,\"#d8576b\"],[0.6666666666666666,\"#ed7953\"],[0.7777777777777778,\"#fb9f3a\"],[0.8888888888888888,\"#fdca26\"],[1.0,\"#f0f921\"]],\"type\":\"histogram2dcontour\"}],\"histogram2d\":[{\"colorbar\":{\"outlinewidth\":0,\"ticks\":\"\"},\"colorscale\":[[0.0,\"#0d0887\"],[0.1111111111111111,\"#46039f\"],[0.2222222222222222,\"#7201a8\"],[0.3333333333333333,\"#9c179e\"],[0.4444444444444444,\"#bd3786\"],[0.5555555555555556,\"#d8576b\"],[0.6666666666666666,\"#ed7953\"],[0.7777777777777778,\"#fb9f3a\"],[0.8888888888888888,\"#fdca26\"],[1.0,\"#f0f921\"]],\"type\":\"histogram2d\"}],\"histogram\":[{\"marker\":{\"pattern\":{\"fillmode\":\"overlay\",\"size\":10,\"solidity\":0.2}},\"type\":\"histogram\"}],\"mesh3d\":[{\"colorbar\":{\"outlinewidth\":0,\"ticks\":\"\"},\"type\":\"mesh3d\"}],\"parcoords\":[{\"line\":{\"colorbar\":{\"outlinewidth\":0,\"ticks\":\"\"}},\"type\":\"parcoords\"}],\"pie\":[{\"automargin\":true,\"type\":\"pie\"}],\"scatter3d\":[{\"line\":{\"colorbar\":{\"outlinewidth\":0,\"ticks\":\"\"}},\"marker\":{\"colorbar\":{\"outlinewidth\":0,\"ticks\":\"\"}},\"type\":\"scatter3d\"}],\"scattercarpet\":[{\"marker\":{\"colorbar\":{\"outlinewidth\":0,\"ticks\":\"\"}},\"type\":\"scattercarpet\"}],\"scattergeo\":[{\"marker\":{\"colorbar\":{\"outlinewidth\":0,\"ticks\":\"\"}},\"type\":\"scattergeo\"}],\"scattergl\":[{\"marker\":{\"colorbar\":{\"outlinewidth\":0,\"ticks\":\"\"}},\"type\":\"scattergl\"}],\"scattermapbox\":[{\"marker\":{\"colorbar\":{\"outlinewidth\":0,\"ticks\":\"\"}},\"type\":\"scattermapbox\"}],\"scatterpolargl\":[{\"marker\":{\"colorbar\":{\"outlinewidth\":0,\"ticks\":\"\"}},\"type\":\"scatterpolargl\"}],\"scatterpolar\":[{\"marker\":{\"colorbar\":{\"outlinewidth\":0,\"ticks\":\"\"}},\"type\":\"scatterpolar\"}],\"scatter\":[{\"marker\":{\"colorbar\":{\"outlinewidth\":0,\"ticks\":\"\"}},\"type\":\"scatter\"}],\"scatterternary\":[{\"marker\":{\"colorbar\":{\"outlinewidth\":0,\"ticks\":\"\"}},\"type\":\"scatterternary\"}],\"surface\":[{\"colorbar\":{\"outlinewidth\":0,\"ticks\":\"\"},\"colorscale\":[[0.0,\"#0d0887\"],[0.1111111111111111,\"#46039f\"],[0.2222222222222222,\"#7201a8\"],[0.3333333333333333,\"#9c179e\"],[0.4444444444444444,\"#bd3786\"],[0.5555555555555556,\"#d8576b\"],[0.6666666666666666,\"#ed7953\"],[0.7777777777777778,\"#fb9f3a\"],[0.8888888888888888,\"#fdca26\"],[1.0,\"#f0f921\"]],\"type\":\"surface\"}],\"table\":[{\"cells\":{\"fill\":{\"color\":\"#EBF0F8\"},\"line\":{\"color\":\"white\"}},\"header\":{\"fill\":{\"color\":\"#C8D4E3\"},\"line\":{\"color\":\"white\"}},\"type\":\"table\"}]},\"layout\":{\"annotationdefaults\":{\"arrowcolor\":\"#2a3f5f\",\"arrowhead\":0,\"arrowwidth\":1},\"autotypenumbers\":\"strict\",\"coloraxis\":{\"colorbar\":{\"outlinewidth\":0,\"ticks\":\"\"}},\"colorscale\":{\"diverging\":[[0,\"#8e0152\"],[0.1,\"#c51b7d\"],[0.2,\"#de77ae\"],[0.3,\"#f1b6da\"],[0.4,\"#fde0ef\"],[0.5,\"#f7f7f7\"],[0.6,\"#e6f5d0\"],[0.7,\"#b8e186\"],[0.8,\"#7fbc41\"],[0.9,\"#4d9221\"],[1,\"#276419\"]],\"sequential\":[[0.0,\"#0d0887\"],[0.1111111111111111,\"#46039f\"],[0.2222222222222222,\"#7201a8\"],[0.3333333333333333,\"#9c179e\"],[0.4444444444444444,\"#bd3786\"],[0.5555555555555556,\"#d8576b\"],[0.6666666666666666,\"#ed7953\"],[0.7777777777777778,\"#fb9f3a\"],[0.8888888888888888,\"#fdca26\"],[1.0,\"#f0f921\"]],\"sequentialminus\":[[0.0,\"#0d0887\"],[0.1111111111111111,\"#46039f\"],[0.2222222222222222,\"#7201a8\"],[0.3333333333333333,\"#9c179e\"],[0.4444444444444444,\"#bd3786\"],[0.5555555555555556,\"#d8576b\"],[0.6666666666666666,\"#ed7953\"],[0.7777777777777778,\"#fb9f3a\"],[0.8888888888888888,\"#fdca26\"],[1.0,\"#f0f921\"]]},\"colorway\":[\"#636efa\",\"#EF553B\",\"#00cc96\",\"#ab63fa\",\"#FFA15A\",\"#19d3f3\",\"#FF6692\",\"#B6E880\",\"#FF97FF\",\"#FECB52\"],\"font\":{\"color\":\"#2a3f5f\"},\"geo\":{\"bgcolor\":\"white\",\"lakecolor\":\"white\",\"landcolor\":\"#E5ECF6\",\"showlakes\":true,\"showland\":true,\"subunitcolor\":\"white\"},\"hoverlabel\":{\"align\":\"left\"},\"hovermode\":\"closest\",\"mapbox\":{\"style\":\"light\"},\"paper_bgcolor\":\"white\",\"plot_bgcolor\":\"#E5ECF6\",\"polar\":{\"angularaxis\":{\"gridcolor\":\"white\",\"linecolor\":\"white\",\"ticks\":\"\"},\"bgcolor\":\"#E5ECF6\",\"radialaxis\":{\"gridcolor\":\"white\",\"linecolor\":\"white\",\"ticks\":\"\"}},\"scene\":{\"xaxis\":{\"backgroundcolor\":\"#E5ECF6\",\"gridcolor\":\"white\",\"gridwidth\":2,\"linecolor\":\"white\",\"showbackground\":true,\"ticks\":\"\",\"zerolinecolor\":\"white\"},\"yaxis\":{\"backgroundcolor\":\"#E5ECF6\",\"gridcolor\":\"white\",\"gridwidth\":2,\"linecolor\":\"white\",\"showbackground\":true,\"ticks\":\"\",\"zerolinecolor\":\"white\"},\"zaxis\":{\"backgroundcolor\":\"#E5ECF6\",\"gridcolor\":\"white\",\"gridwidth\":2,\"linecolor\":\"white\",\"showbackground\":true,\"ticks\":\"\",\"zerolinecolor\":\"white\"}},\"shapedefaults\":{\"line\":{\"color\":\"#2a3f5f\"}},\"ternary\":{\"aaxis\":{\"gridcolor\":\"white\",\"linecolor\":\"white\",\"ticks\":\"\"},\"baxis\":{\"gridcolor\":\"white\",\"linecolor\":\"white\",\"ticks\":\"\"},\"bgcolor\":\"#E5ECF6\",\"caxis\":{\"gridcolor\":\"white\",\"linecolor\":\"white\",\"ticks\":\"\"}},\"title\":{\"x\":0.05},\"xaxis\":{\"automargin\":true,\"gridcolor\":\"white\",\"linecolor\":\"white\",\"ticks\":\"\",\"title\":{\"standoff\":15},\"zerolinecolor\":\"white\",\"zerolinewidth\":2},\"yaxis\":{\"automargin\":true,\"gridcolor\":\"white\",\"linecolor\":\"white\",\"ticks\":\"\",\"title\":{\"standoff\":15},\"zerolinecolor\":\"white\",\"zerolinewidth\":2}}},\"title\":{\"text\":\"Review PCA Explained Variance to determine number of components\"}},                        {\"responsive\": true}                    ).then(function(){\n",
       "                            \n",
       "var gd = document.getElementById('5e8984ae-cdef-4055-ac44-52d014cc9252');\n",
       "var x = new MutationObserver(function (mutations, observer) {{\n",
       "        var display = window.getComputedStyle(gd).display;\n",
       "        if (!display || display === 'none') {{\n",
       "            console.log([gd, 'removed!']);\n",
       "            Plotly.purge(gd);\n",
       "            observer.disconnect();\n",
       "        }}\n",
       "}});\n",
       "\n",
       "// Listen for the removal of the full notebook cells\n",
       "var notebookContainer = gd.closest('#notebook-container');\n",
       "if (notebookContainer) {{\n",
       "    x.observe(notebookContainer, {childList: true});\n",
       "}}\n",
       "\n",
       "// Listen for the clearing of the current output cell\n",
       "var outputEl = gd.closest('.output');\n",
       "if (outputEl) {{\n",
       "    x.observe(outputEl, {childList: true});\n",
       "}}\n",
       "\n",
       "                        })                };                });            </script>        </div>"
      ]
     },
     "metadata": {},
     "output_type": "display_data"
    }
   ],
   "source": [
    "pca = PCA(n_components=4).fit(X)\n",
    "#Plotting the Cumulative Summation of the Explained Variance\n",
    "expvar=np.cumsum(pca.explained_variance_ratio_)\n",
    "data = [go.Scatter(y=expvar)]\n",
    "layout = {'title': 'Review PCA Explained Variance to determine number of components'}\n",
    "iplot({'data':data,'layout':layout})"
   ]
  },
  {
   "cell_type": "code",
   "execution_count": null,
   "id": "f6a2059c",
   "metadata": {},
   "outputs": [],
   "source": []
  },
  {
   "cell_type": "code",
   "execution_count": 20,
   "id": "fda07019",
   "metadata": {},
   "outputs": [],
   "source": [
    "pca = PCA(n_components=4)\n",
    "XPCA = pca.fit_transform(X)"
   ]
  },
  {
   "cell_type": "code",
   "execution_count": 21,
   "id": "8636510c",
   "metadata": {},
   "outputs": [],
   "source": [
    "Nc = range(1,20)\n",
    "kmeans = [KMeans(i) for i in Nc]\n",
    "score = [kmeans[i].fit(XPCA).score(XPCA) for i in range(len(kmeans))]"
   ]
  },
  {
   "cell_type": "code",
   "execution_count": 22,
   "id": "2aa91ac3",
   "metadata": {},
   "outputs": [
    {
     "data": {
      "application/vnd.plotly.v1+json": {
       "config": {
        "linkText": "Export to plot.ly",
        "plotlyServerURL": "https://plot.ly",
        "showLink": false
       },
       "data": [
        {
         "type": "scatter",
         "x": [
          1,
          2,
          3,
          4,
          5,
          6,
          7,
          8,
          9,
          10,
          11,
          12,
          13,
          14,
          15,
          16,
          17,
          18,
          19
         ],
         "y": [
          -123496.34598411554,
          -60587.25960854053,
          -25916.830133732175,
          -16310.304453241177,
          -9303.270070603478,
          -6741.92923727014,
          -4449.003449975337,
          -3693.0830796049654,
          -2886.5621946368624,
          -2297.019968058077,
          -1897.6950043410181,
          -1497.7613908956398,
          -1310.6389509022995,
          -1169.8924977047493,
          -1027.630390054149,
          -938.6280741584384,
          -816.9953963099707,
          -781.4440243908145,
          -690.1126803189441
         ]
        }
       ],
       "layout": {
        "template": {
         "data": {
          "bar": [
           {
            "error_x": {
             "color": "#2a3f5f"
            },
            "error_y": {
             "color": "#2a3f5f"
            },
            "marker": {
             "line": {
              "color": "#E5ECF6",
              "width": 0.5
             },
             "pattern": {
              "fillmode": "overlay",
              "size": 10,
              "solidity": 0.2
             }
            },
            "type": "bar"
           }
          ],
          "barpolar": [
           {
            "marker": {
             "line": {
              "color": "#E5ECF6",
              "width": 0.5
             },
             "pattern": {
              "fillmode": "overlay",
              "size": 10,
              "solidity": 0.2
             }
            },
            "type": "barpolar"
           }
          ],
          "carpet": [
           {
            "aaxis": {
             "endlinecolor": "#2a3f5f",
             "gridcolor": "white",
             "linecolor": "white",
             "minorgridcolor": "white",
             "startlinecolor": "#2a3f5f"
            },
            "baxis": {
             "endlinecolor": "#2a3f5f",
             "gridcolor": "white",
             "linecolor": "white",
             "minorgridcolor": "white",
             "startlinecolor": "#2a3f5f"
            },
            "type": "carpet"
           }
          ],
          "choropleth": [
           {
            "colorbar": {
             "outlinewidth": 0,
             "ticks": ""
            },
            "type": "choropleth"
           }
          ],
          "contour": [
           {
            "colorbar": {
             "outlinewidth": 0,
             "ticks": ""
            },
            "colorscale": [
             [
              0,
              "#0d0887"
             ],
             [
              0.1111111111111111,
              "#46039f"
             ],
             [
              0.2222222222222222,
              "#7201a8"
             ],
             [
              0.3333333333333333,
              "#9c179e"
             ],
             [
              0.4444444444444444,
              "#bd3786"
             ],
             [
              0.5555555555555556,
              "#d8576b"
             ],
             [
              0.6666666666666666,
              "#ed7953"
             ],
             [
              0.7777777777777778,
              "#fb9f3a"
             ],
             [
              0.8888888888888888,
              "#fdca26"
             ],
             [
              1,
              "#f0f921"
             ]
            ],
            "type": "contour"
           }
          ],
          "contourcarpet": [
           {
            "colorbar": {
             "outlinewidth": 0,
             "ticks": ""
            },
            "type": "contourcarpet"
           }
          ],
          "heatmap": [
           {
            "colorbar": {
             "outlinewidth": 0,
             "ticks": ""
            },
            "colorscale": [
             [
              0,
              "#0d0887"
             ],
             [
              0.1111111111111111,
              "#46039f"
             ],
             [
              0.2222222222222222,
              "#7201a8"
             ],
             [
              0.3333333333333333,
              "#9c179e"
             ],
             [
              0.4444444444444444,
              "#bd3786"
             ],
             [
              0.5555555555555556,
              "#d8576b"
             ],
             [
              0.6666666666666666,
              "#ed7953"
             ],
             [
              0.7777777777777778,
              "#fb9f3a"
             ],
             [
              0.8888888888888888,
              "#fdca26"
             ],
             [
              1,
              "#f0f921"
             ]
            ],
            "type": "heatmap"
           }
          ],
          "heatmapgl": [
           {
            "colorbar": {
             "outlinewidth": 0,
             "ticks": ""
            },
            "colorscale": [
             [
              0,
              "#0d0887"
             ],
             [
              0.1111111111111111,
              "#46039f"
             ],
             [
              0.2222222222222222,
              "#7201a8"
             ],
             [
              0.3333333333333333,
              "#9c179e"
             ],
             [
              0.4444444444444444,
              "#bd3786"
             ],
             [
              0.5555555555555556,
              "#d8576b"
             ],
             [
              0.6666666666666666,
              "#ed7953"
             ],
             [
              0.7777777777777778,
              "#fb9f3a"
             ],
             [
              0.8888888888888888,
              "#fdca26"
             ],
             [
              1,
              "#f0f921"
             ]
            ],
            "type": "heatmapgl"
           }
          ],
          "histogram": [
           {
            "marker": {
             "pattern": {
              "fillmode": "overlay",
              "size": 10,
              "solidity": 0.2
             }
            },
            "type": "histogram"
           }
          ],
          "histogram2d": [
           {
            "colorbar": {
             "outlinewidth": 0,
             "ticks": ""
            },
            "colorscale": [
             [
              0,
              "#0d0887"
             ],
             [
              0.1111111111111111,
              "#46039f"
             ],
             [
              0.2222222222222222,
              "#7201a8"
             ],
             [
              0.3333333333333333,
              "#9c179e"
             ],
             [
              0.4444444444444444,
              "#bd3786"
             ],
             [
              0.5555555555555556,
              "#d8576b"
             ],
             [
              0.6666666666666666,
              "#ed7953"
             ],
             [
              0.7777777777777778,
              "#fb9f3a"
             ],
             [
              0.8888888888888888,
              "#fdca26"
             ],
             [
              1,
              "#f0f921"
             ]
            ],
            "type": "histogram2d"
           }
          ],
          "histogram2dcontour": [
           {
            "colorbar": {
             "outlinewidth": 0,
             "ticks": ""
            },
            "colorscale": [
             [
              0,
              "#0d0887"
             ],
             [
              0.1111111111111111,
              "#46039f"
             ],
             [
              0.2222222222222222,
              "#7201a8"
             ],
             [
              0.3333333333333333,
              "#9c179e"
             ],
             [
              0.4444444444444444,
              "#bd3786"
             ],
             [
              0.5555555555555556,
              "#d8576b"
             ],
             [
              0.6666666666666666,
              "#ed7953"
             ],
             [
              0.7777777777777778,
              "#fb9f3a"
             ],
             [
              0.8888888888888888,
              "#fdca26"
             ],
             [
              1,
              "#f0f921"
             ]
            ],
            "type": "histogram2dcontour"
           }
          ],
          "mesh3d": [
           {
            "colorbar": {
             "outlinewidth": 0,
             "ticks": ""
            },
            "type": "mesh3d"
           }
          ],
          "parcoords": [
           {
            "line": {
             "colorbar": {
              "outlinewidth": 0,
              "ticks": ""
             }
            },
            "type": "parcoords"
           }
          ],
          "pie": [
           {
            "automargin": true,
            "type": "pie"
           }
          ],
          "scatter": [
           {
            "marker": {
             "colorbar": {
              "outlinewidth": 0,
              "ticks": ""
             }
            },
            "type": "scatter"
           }
          ],
          "scatter3d": [
           {
            "line": {
             "colorbar": {
              "outlinewidth": 0,
              "ticks": ""
             }
            },
            "marker": {
             "colorbar": {
              "outlinewidth": 0,
              "ticks": ""
             }
            },
            "type": "scatter3d"
           }
          ],
          "scattercarpet": [
           {
            "marker": {
             "colorbar": {
              "outlinewidth": 0,
              "ticks": ""
             }
            },
            "type": "scattercarpet"
           }
          ],
          "scattergeo": [
           {
            "marker": {
             "colorbar": {
              "outlinewidth": 0,
              "ticks": ""
             }
            },
            "type": "scattergeo"
           }
          ],
          "scattergl": [
           {
            "marker": {
             "colorbar": {
              "outlinewidth": 0,
              "ticks": ""
             }
            },
            "type": "scattergl"
           }
          ],
          "scattermapbox": [
           {
            "marker": {
             "colorbar": {
              "outlinewidth": 0,
              "ticks": ""
             }
            },
            "type": "scattermapbox"
           }
          ],
          "scatterpolar": [
           {
            "marker": {
             "colorbar": {
              "outlinewidth": 0,
              "ticks": ""
             }
            },
            "type": "scatterpolar"
           }
          ],
          "scatterpolargl": [
           {
            "marker": {
             "colorbar": {
              "outlinewidth": 0,
              "ticks": ""
             }
            },
            "type": "scatterpolargl"
           }
          ],
          "scatterternary": [
           {
            "marker": {
             "colorbar": {
              "outlinewidth": 0,
              "ticks": ""
             }
            },
            "type": "scatterternary"
           }
          ],
          "surface": [
           {
            "colorbar": {
             "outlinewidth": 0,
             "ticks": ""
            },
            "colorscale": [
             [
              0,
              "#0d0887"
             ],
             [
              0.1111111111111111,
              "#46039f"
             ],
             [
              0.2222222222222222,
              "#7201a8"
             ],
             [
              0.3333333333333333,
              "#9c179e"
             ],
             [
              0.4444444444444444,
              "#bd3786"
             ],
             [
              0.5555555555555556,
              "#d8576b"
             ],
             [
              0.6666666666666666,
              "#ed7953"
             ],
             [
              0.7777777777777778,
              "#fb9f3a"
             ],
             [
              0.8888888888888888,
              "#fdca26"
             ],
             [
              1,
              "#f0f921"
             ]
            ],
            "type": "surface"
           }
          ],
          "table": [
           {
            "cells": {
             "fill": {
              "color": "#EBF0F8"
             },
             "line": {
              "color": "white"
             }
            },
            "header": {
             "fill": {
              "color": "#C8D4E3"
             },
             "line": {
              "color": "white"
             }
            },
            "type": "table"
           }
          ]
         },
         "layout": {
          "annotationdefaults": {
           "arrowcolor": "#2a3f5f",
           "arrowhead": 0,
           "arrowwidth": 1
          },
          "autotypenumbers": "strict",
          "coloraxis": {
           "colorbar": {
            "outlinewidth": 0,
            "ticks": ""
           }
          },
          "colorscale": {
           "diverging": [
            [
             0,
             "#8e0152"
            ],
            [
             0.1,
             "#c51b7d"
            ],
            [
             0.2,
             "#de77ae"
            ],
            [
             0.3,
             "#f1b6da"
            ],
            [
             0.4,
             "#fde0ef"
            ],
            [
             0.5,
             "#f7f7f7"
            ],
            [
             0.6,
             "#e6f5d0"
            ],
            [
             0.7,
             "#b8e186"
            ],
            [
             0.8,
             "#7fbc41"
            ],
            [
             0.9,
             "#4d9221"
            ],
            [
             1,
             "#276419"
            ]
           ],
           "sequential": [
            [
             0,
             "#0d0887"
            ],
            [
             0.1111111111111111,
             "#46039f"
            ],
            [
             0.2222222222222222,
             "#7201a8"
            ],
            [
             0.3333333333333333,
             "#9c179e"
            ],
            [
             0.4444444444444444,
             "#bd3786"
            ],
            [
             0.5555555555555556,
             "#d8576b"
            ],
            [
             0.6666666666666666,
             "#ed7953"
            ],
            [
             0.7777777777777778,
             "#fb9f3a"
            ],
            [
             0.8888888888888888,
             "#fdca26"
            ],
            [
             1,
             "#f0f921"
            ]
           ],
           "sequentialminus": [
            [
             0,
             "#0d0887"
            ],
            [
             0.1111111111111111,
             "#46039f"
            ],
            [
             0.2222222222222222,
             "#7201a8"
            ],
            [
             0.3333333333333333,
             "#9c179e"
            ],
            [
             0.4444444444444444,
             "#bd3786"
            ],
            [
             0.5555555555555556,
             "#d8576b"
            ],
            [
             0.6666666666666666,
             "#ed7953"
            ],
            [
             0.7777777777777778,
             "#fb9f3a"
            ],
            [
             0.8888888888888888,
             "#fdca26"
            ],
            [
             1,
             "#f0f921"
            ]
           ]
          },
          "colorway": [
           "#636efa",
           "#EF553B",
           "#00cc96",
           "#ab63fa",
           "#FFA15A",
           "#19d3f3",
           "#FF6692",
           "#B6E880",
           "#FF97FF",
           "#FECB52"
          ],
          "font": {
           "color": "#2a3f5f"
          },
          "geo": {
           "bgcolor": "white",
           "lakecolor": "white",
           "landcolor": "#E5ECF6",
           "showlakes": true,
           "showland": true,
           "subunitcolor": "white"
          },
          "hoverlabel": {
           "align": "left"
          },
          "hovermode": "closest",
          "mapbox": {
           "style": "light"
          },
          "paper_bgcolor": "white",
          "plot_bgcolor": "#E5ECF6",
          "polar": {
           "angularaxis": {
            "gridcolor": "white",
            "linecolor": "white",
            "ticks": ""
           },
           "bgcolor": "#E5ECF6",
           "radialaxis": {
            "gridcolor": "white",
            "linecolor": "white",
            "ticks": ""
           }
          },
          "scene": {
           "xaxis": {
            "backgroundcolor": "#E5ECF6",
            "gridcolor": "white",
            "gridwidth": 2,
            "linecolor": "white",
            "showbackground": true,
            "ticks": "",
            "zerolinecolor": "white"
           },
           "yaxis": {
            "backgroundcolor": "#E5ECF6",
            "gridcolor": "white",
            "gridwidth": 2,
            "linecolor": "white",
            "showbackground": true,
            "ticks": "",
            "zerolinecolor": "white"
           },
           "zaxis": {
            "backgroundcolor": "#E5ECF6",
            "gridcolor": "white",
            "gridwidth": 2,
            "linecolor": "white",
            "showbackground": true,
            "ticks": "",
            "zerolinecolor": "white"
           }
          },
          "shapedefaults": {
           "line": {
            "color": "#2a3f5f"
           }
          },
          "ternary": {
           "aaxis": {
            "gridcolor": "white",
            "linecolor": "white",
            "ticks": ""
           },
           "baxis": {
            "gridcolor": "white",
            "linecolor": "white",
            "ticks": ""
           },
           "bgcolor": "#E5ECF6",
           "caxis": {
            "gridcolor": "white",
            "linecolor": "white",
            "ticks": ""
           }
          },
          "title": {
           "x": 0.05
          },
          "xaxis": {
           "automargin": true,
           "gridcolor": "white",
           "linecolor": "white",
           "ticks": "",
           "title": {
            "standoff": 15
           },
           "zerolinecolor": "white",
           "zerolinewidth": 2
          },
          "yaxis": {
           "automargin": true,
           "gridcolor": "white",
           "linecolor": "white",
           "ticks": "",
           "title": {
            "standoff": 15
           },
           "zerolinecolor": "white",
           "zerolinewidth": 2
          }
         }
        },
        "title": {
         "text": "Review Elbow Curve to determine number of clusters for KMeans"
        }
       }
      },
      "text/html": [
       "<div>                            <div id=\"fcf4ab6b-404c-4482-b1ec-4a6113fb59e7\" class=\"plotly-graph-div\" style=\"height:525px; width:100%;\"></div>            <script type=\"text/javascript\">                require([\"plotly\"], function(Plotly) {                    window.PLOTLYENV=window.PLOTLYENV || {};                                    if (document.getElementById(\"fcf4ab6b-404c-4482-b1ec-4a6113fb59e7\")) {                    Plotly.newPlot(                        \"fcf4ab6b-404c-4482-b1ec-4a6113fb59e7\",                        [{\"x\":[1,2,3,4,5,6,7,8,9,10,11,12,13,14,15,16,17,18,19],\"y\":[-123496.34598411554,-60587.25960854053,-25916.830133732175,-16310.304453241177,-9303.270070603478,-6741.92923727014,-4449.003449975337,-3693.0830796049654,-2886.5621946368624,-2297.019968058077,-1897.6950043410181,-1497.7613908956398,-1310.6389509022995,-1169.8924977047493,-1027.630390054149,-938.6280741584384,-816.9953963099707,-781.4440243908145,-690.1126803189441],\"type\":\"scatter\"}],                        {\"template\":{\"data\":{\"barpolar\":[{\"marker\":{\"line\":{\"color\":\"#E5ECF6\",\"width\":0.5},\"pattern\":{\"fillmode\":\"overlay\",\"size\":10,\"solidity\":0.2}},\"type\":\"barpolar\"}],\"bar\":[{\"error_x\":{\"color\":\"#2a3f5f\"},\"error_y\":{\"color\":\"#2a3f5f\"},\"marker\":{\"line\":{\"color\":\"#E5ECF6\",\"width\":0.5},\"pattern\":{\"fillmode\":\"overlay\",\"size\":10,\"solidity\":0.2}},\"type\":\"bar\"}],\"carpet\":[{\"aaxis\":{\"endlinecolor\":\"#2a3f5f\",\"gridcolor\":\"white\",\"linecolor\":\"white\",\"minorgridcolor\":\"white\",\"startlinecolor\":\"#2a3f5f\"},\"baxis\":{\"endlinecolor\":\"#2a3f5f\",\"gridcolor\":\"white\",\"linecolor\":\"white\",\"minorgridcolor\":\"white\",\"startlinecolor\":\"#2a3f5f\"},\"type\":\"carpet\"}],\"choropleth\":[{\"colorbar\":{\"outlinewidth\":0,\"ticks\":\"\"},\"type\":\"choropleth\"}],\"contourcarpet\":[{\"colorbar\":{\"outlinewidth\":0,\"ticks\":\"\"},\"type\":\"contourcarpet\"}],\"contour\":[{\"colorbar\":{\"outlinewidth\":0,\"ticks\":\"\"},\"colorscale\":[[0.0,\"#0d0887\"],[0.1111111111111111,\"#46039f\"],[0.2222222222222222,\"#7201a8\"],[0.3333333333333333,\"#9c179e\"],[0.4444444444444444,\"#bd3786\"],[0.5555555555555556,\"#d8576b\"],[0.6666666666666666,\"#ed7953\"],[0.7777777777777778,\"#fb9f3a\"],[0.8888888888888888,\"#fdca26\"],[1.0,\"#f0f921\"]],\"type\":\"contour\"}],\"heatmapgl\":[{\"colorbar\":{\"outlinewidth\":0,\"ticks\":\"\"},\"colorscale\":[[0.0,\"#0d0887\"],[0.1111111111111111,\"#46039f\"],[0.2222222222222222,\"#7201a8\"],[0.3333333333333333,\"#9c179e\"],[0.4444444444444444,\"#bd3786\"],[0.5555555555555556,\"#d8576b\"],[0.6666666666666666,\"#ed7953\"],[0.7777777777777778,\"#fb9f3a\"],[0.8888888888888888,\"#fdca26\"],[1.0,\"#f0f921\"]],\"type\":\"heatmapgl\"}],\"heatmap\":[{\"colorbar\":{\"outlinewidth\":0,\"ticks\":\"\"},\"colorscale\":[[0.0,\"#0d0887\"],[0.1111111111111111,\"#46039f\"],[0.2222222222222222,\"#7201a8\"],[0.3333333333333333,\"#9c179e\"],[0.4444444444444444,\"#bd3786\"],[0.5555555555555556,\"#d8576b\"],[0.6666666666666666,\"#ed7953\"],[0.7777777777777778,\"#fb9f3a\"],[0.8888888888888888,\"#fdca26\"],[1.0,\"#f0f921\"]],\"type\":\"heatmap\"}],\"histogram2dcontour\":[{\"colorbar\":{\"outlinewidth\":0,\"ticks\":\"\"},\"colorscale\":[[0.0,\"#0d0887\"],[0.1111111111111111,\"#46039f\"],[0.2222222222222222,\"#7201a8\"],[0.3333333333333333,\"#9c179e\"],[0.4444444444444444,\"#bd3786\"],[0.5555555555555556,\"#d8576b\"],[0.6666666666666666,\"#ed7953\"],[0.7777777777777778,\"#fb9f3a\"],[0.8888888888888888,\"#fdca26\"],[1.0,\"#f0f921\"]],\"type\":\"histogram2dcontour\"}],\"histogram2d\":[{\"colorbar\":{\"outlinewidth\":0,\"ticks\":\"\"},\"colorscale\":[[0.0,\"#0d0887\"],[0.1111111111111111,\"#46039f\"],[0.2222222222222222,\"#7201a8\"],[0.3333333333333333,\"#9c179e\"],[0.4444444444444444,\"#bd3786\"],[0.5555555555555556,\"#d8576b\"],[0.6666666666666666,\"#ed7953\"],[0.7777777777777778,\"#fb9f3a\"],[0.8888888888888888,\"#fdca26\"],[1.0,\"#f0f921\"]],\"type\":\"histogram2d\"}],\"histogram\":[{\"marker\":{\"pattern\":{\"fillmode\":\"overlay\",\"size\":10,\"solidity\":0.2}},\"type\":\"histogram\"}],\"mesh3d\":[{\"colorbar\":{\"outlinewidth\":0,\"ticks\":\"\"},\"type\":\"mesh3d\"}],\"parcoords\":[{\"line\":{\"colorbar\":{\"outlinewidth\":0,\"ticks\":\"\"}},\"type\":\"parcoords\"}],\"pie\":[{\"automargin\":true,\"type\":\"pie\"}],\"scatter3d\":[{\"line\":{\"colorbar\":{\"outlinewidth\":0,\"ticks\":\"\"}},\"marker\":{\"colorbar\":{\"outlinewidth\":0,\"ticks\":\"\"}},\"type\":\"scatter3d\"}],\"scattercarpet\":[{\"marker\":{\"colorbar\":{\"outlinewidth\":0,\"ticks\":\"\"}},\"type\":\"scattercarpet\"}],\"scattergeo\":[{\"marker\":{\"colorbar\":{\"outlinewidth\":0,\"ticks\":\"\"}},\"type\":\"scattergeo\"}],\"scattergl\":[{\"marker\":{\"colorbar\":{\"outlinewidth\":0,\"ticks\":\"\"}},\"type\":\"scattergl\"}],\"scattermapbox\":[{\"marker\":{\"colorbar\":{\"outlinewidth\":0,\"ticks\":\"\"}},\"type\":\"scattermapbox\"}],\"scatterpolargl\":[{\"marker\":{\"colorbar\":{\"outlinewidth\":0,\"ticks\":\"\"}},\"type\":\"scatterpolargl\"}],\"scatterpolar\":[{\"marker\":{\"colorbar\":{\"outlinewidth\":0,\"ticks\":\"\"}},\"type\":\"scatterpolar\"}],\"scatter\":[{\"marker\":{\"colorbar\":{\"outlinewidth\":0,\"ticks\":\"\"}},\"type\":\"scatter\"}],\"scatterternary\":[{\"marker\":{\"colorbar\":{\"outlinewidth\":0,\"ticks\":\"\"}},\"type\":\"scatterternary\"}],\"surface\":[{\"colorbar\":{\"outlinewidth\":0,\"ticks\":\"\"},\"colorscale\":[[0.0,\"#0d0887\"],[0.1111111111111111,\"#46039f\"],[0.2222222222222222,\"#7201a8\"],[0.3333333333333333,\"#9c179e\"],[0.4444444444444444,\"#bd3786\"],[0.5555555555555556,\"#d8576b\"],[0.6666666666666666,\"#ed7953\"],[0.7777777777777778,\"#fb9f3a\"],[0.8888888888888888,\"#fdca26\"],[1.0,\"#f0f921\"]],\"type\":\"surface\"}],\"table\":[{\"cells\":{\"fill\":{\"color\":\"#EBF0F8\"},\"line\":{\"color\":\"white\"}},\"header\":{\"fill\":{\"color\":\"#C8D4E3\"},\"line\":{\"color\":\"white\"}},\"type\":\"table\"}]},\"layout\":{\"annotationdefaults\":{\"arrowcolor\":\"#2a3f5f\",\"arrowhead\":0,\"arrowwidth\":1},\"autotypenumbers\":\"strict\",\"coloraxis\":{\"colorbar\":{\"outlinewidth\":0,\"ticks\":\"\"}},\"colorscale\":{\"diverging\":[[0,\"#8e0152\"],[0.1,\"#c51b7d\"],[0.2,\"#de77ae\"],[0.3,\"#f1b6da\"],[0.4,\"#fde0ef\"],[0.5,\"#f7f7f7\"],[0.6,\"#e6f5d0\"],[0.7,\"#b8e186\"],[0.8,\"#7fbc41\"],[0.9,\"#4d9221\"],[1,\"#276419\"]],\"sequential\":[[0.0,\"#0d0887\"],[0.1111111111111111,\"#46039f\"],[0.2222222222222222,\"#7201a8\"],[0.3333333333333333,\"#9c179e\"],[0.4444444444444444,\"#bd3786\"],[0.5555555555555556,\"#d8576b\"],[0.6666666666666666,\"#ed7953\"],[0.7777777777777778,\"#fb9f3a\"],[0.8888888888888888,\"#fdca26\"],[1.0,\"#f0f921\"]],\"sequentialminus\":[[0.0,\"#0d0887\"],[0.1111111111111111,\"#46039f\"],[0.2222222222222222,\"#7201a8\"],[0.3333333333333333,\"#9c179e\"],[0.4444444444444444,\"#bd3786\"],[0.5555555555555556,\"#d8576b\"],[0.6666666666666666,\"#ed7953\"],[0.7777777777777778,\"#fb9f3a\"],[0.8888888888888888,\"#fdca26\"],[1.0,\"#f0f921\"]]},\"colorway\":[\"#636efa\",\"#EF553B\",\"#00cc96\",\"#ab63fa\",\"#FFA15A\",\"#19d3f3\",\"#FF6692\",\"#B6E880\",\"#FF97FF\",\"#FECB52\"],\"font\":{\"color\":\"#2a3f5f\"},\"geo\":{\"bgcolor\":\"white\",\"lakecolor\":\"white\",\"landcolor\":\"#E5ECF6\",\"showlakes\":true,\"showland\":true,\"subunitcolor\":\"white\"},\"hoverlabel\":{\"align\":\"left\"},\"hovermode\":\"closest\",\"mapbox\":{\"style\":\"light\"},\"paper_bgcolor\":\"white\",\"plot_bgcolor\":\"#E5ECF6\",\"polar\":{\"angularaxis\":{\"gridcolor\":\"white\",\"linecolor\":\"white\",\"ticks\":\"\"},\"bgcolor\":\"#E5ECF6\",\"radialaxis\":{\"gridcolor\":\"white\",\"linecolor\":\"white\",\"ticks\":\"\"}},\"scene\":{\"xaxis\":{\"backgroundcolor\":\"#E5ECF6\",\"gridcolor\":\"white\",\"gridwidth\":2,\"linecolor\":\"white\",\"showbackground\":true,\"ticks\":\"\",\"zerolinecolor\":\"white\"},\"yaxis\":{\"backgroundcolor\":\"#E5ECF6\",\"gridcolor\":\"white\",\"gridwidth\":2,\"linecolor\":\"white\",\"showbackground\":true,\"ticks\":\"\",\"zerolinecolor\":\"white\"},\"zaxis\":{\"backgroundcolor\":\"#E5ECF6\",\"gridcolor\":\"white\",\"gridwidth\":2,\"linecolor\":\"white\",\"showbackground\":true,\"ticks\":\"\",\"zerolinecolor\":\"white\"}},\"shapedefaults\":{\"line\":{\"color\":\"#2a3f5f\"}},\"ternary\":{\"aaxis\":{\"gridcolor\":\"white\",\"linecolor\":\"white\",\"ticks\":\"\"},\"baxis\":{\"gridcolor\":\"white\",\"linecolor\":\"white\",\"ticks\":\"\"},\"bgcolor\":\"#E5ECF6\",\"caxis\":{\"gridcolor\":\"white\",\"linecolor\":\"white\",\"ticks\":\"\"}},\"title\":{\"x\":0.05},\"xaxis\":{\"automargin\":true,\"gridcolor\":\"white\",\"linecolor\":\"white\",\"ticks\":\"\",\"title\":{\"standoff\":15},\"zerolinecolor\":\"white\",\"zerolinewidth\":2},\"yaxis\":{\"automargin\":true,\"gridcolor\":\"white\",\"linecolor\":\"white\",\"ticks\":\"\",\"title\":{\"standoff\":15},\"zerolinecolor\":\"white\",\"zerolinewidth\":2}}},\"title\":{\"text\":\"Review Elbow Curve to determine number of clusters for KMeans\"}},                        {\"responsive\": true}                    ).then(function(){\n",
       "                            \n",
       "var gd = document.getElementById('fcf4ab6b-404c-4482-b1ec-4a6113fb59e7');\n",
       "var x = new MutationObserver(function (mutations, observer) {{\n",
       "        var display = window.getComputedStyle(gd).display;\n",
       "        if (!display || display === 'none') {{\n",
       "            console.log([gd, 'removed!']);\n",
       "            Plotly.purge(gd);\n",
       "            observer.disconnect();\n",
       "        }}\n",
       "}});\n",
       "\n",
       "// Listen for the removal of the full notebook cells\n",
       "var notebookContainer = gd.closest('#notebook-container');\n",
       "if (notebookContainer) {{\n",
       "    x.observe(notebookContainer, {childList: true});\n",
       "}}\n",
       "\n",
       "// Listen for the clearing of the current output cell\n",
       "var outputEl = gd.closest('.output');\n",
       "if (outputEl) {{\n",
       "    x.observe(outputEl, {childList: true});\n",
       "}}\n",
       "\n",
       "                        })                };                });            </script>        </div>"
      ]
     },
     "metadata": {},
     "output_type": "display_data"
    }
   ],
   "source": [
    "data = [go.Scatter(y=score,x=list(Nc))]\n",
    "layout = {'title':'Review Elbow Curve to determine number of clusters for KMeans'}\n",
    "iplot({'data':data,'layout':layout})"
   ]
  },
  {
   "cell_type": "code",
   "execution_count": 23,
   "id": "ae7c4ea4",
   "metadata": {},
   "outputs": [],
   "source": [
    "n_clusters=5\n",
    "kmeans = KMeans(n_clusters=n_clusters, random_state=42)\n",
    "Xkmeans = kmeans.fit_predict(XPCA)"
   ]
  },
  {
   "cell_type": "code",
   "execution_count": 24,
   "id": "2da6510c",
   "metadata": {},
   "outputs": [],
   "source": [
    "from sklearn.manifold import TSNE\n",
    "XTSNE = TSNE(n_components=2).fit_transform(XPCA)"
   ]
  },
  {
   "cell_type": "code",
   "execution_count": 25,
   "id": "5fd3ccf8",
   "metadata": {},
   "outputs": [
    {
     "data": {
      "application/vnd.plotly.v1+json": {
       "config": {
        "plotlyServerURL": "https://plot.ly"
       },
       "data": [
        {
         "hovertemplate": "x1=%{x}<br>x2=%{y}<br>cluster=%{marker.color}<extra></extra>",
         "legendgroup": "",
         "marker": {
          "color": [
           3,
           0,
           3,
           3,
           0,
           3,
           3,
           3,
           0,
           0,
           3,
           3,
           0,
           3,
           0,
           3,
           3,
           0,
           3,
           3,
           3,
           3,
           0,
           3,
           3,
           3,
           3,
           3,
           0,
           0,
           0,
           4,
           3,
           3,
           3,
           3,
           0,
           3,
           3,
           3,
           3,
           3,
           3,
           0,
           0,
           0,
           0,
           3,
           3,
           3,
           3,
           0,
           3,
           3,
           0,
           0,
           3,
           3,
           3,
           3,
           3,
           0,
           0,
           0,
           3,
           3,
           0,
           3,
           3,
           0,
           4,
           0,
           3,
           0,
           0,
           0,
           0,
           3,
           4,
           3,
           0,
           0,
           0,
           0,
           0,
           3,
           0,
           0,
           0,
           0,
           0,
           0,
           0,
           0,
           0,
           0,
           0,
           0,
           1,
           0,
           3,
           0,
           3,
           4,
           3,
           3,
           0,
           4,
           0,
           0,
           0,
           3,
           0,
           4,
           0,
           4,
           0,
           0,
           1,
           0,
           0,
           4,
           4,
           0,
           0,
           0,
           4,
           0,
           0,
           0,
           0,
           0,
           0,
           4,
           4,
           4,
           0,
           4,
           0,
           4,
           4,
           0,
           0,
           4,
           4,
           4,
           0,
           4,
           0,
           4,
           4,
           4,
           4,
           0,
           0,
           0,
           4,
           0,
           4,
           4,
           4,
           4,
           0,
           4,
           4,
           0,
           4,
           0,
           4,
           0,
           4,
           0,
           4,
           4,
           0,
           4,
           4,
           4,
           4,
           4,
           4,
           1,
           4,
           4,
           4,
           4,
           0,
           1,
           4,
           0,
           4,
           0,
           4,
           4,
           4,
           4,
           0,
           4,
           4,
           4,
           4,
           4,
           4,
           4,
           4,
           1,
           0,
           4,
           0,
           4,
           4,
           4,
           4,
           0,
           0,
           4,
           4,
           4,
           4,
           1,
           1,
           4,
           4,
           4,
           4,
           4,
           4,
           1,
           1,
           1,
           4,
           4,
           4,
           4,
           4,
           1,
           4,
           4,
           4,
           4,
           1,
           4,
           4,
           4,
           4,
           1,
           4,
           4,
           1,
           1,
           1,
           1,
           4,
           1,
           4,
           1,
           1,
           1,
           1,
           1,
           1,
           4,
           1,
           1,
           1,
           1,
           1,
           1,
           2,
           1,
           1,
           1,
           2,
           2,
           2,
           2,
           2
          ],
          "coloraxis": "coloraxis",
          "symbol": "circle"
         },
         "mode": "markers",
         "name": "",
         "orientation": "v",
         "showlegend": false,
         "type": "scatter",
         "x": [
          -20.476659774780273,
          -14.861726760864258,
          -20.35085105895996,
          -19.893171310424805,
          -12.55570125579834,
          -20.06443977355957,
          -19.239904403686523,
          -19.893171310424805,
          -10.016871452331543,
          1.9490834474563599,
          -19.62186622619629,
          -19.964197158813477,
          -10.461705207824707,
          -19.237157821655273,
          -8.470893859863281,
          -20.115896224975586,
          -19.138507843017578,
          -14.545016288757324,
          -19.811452865600586,
          -19.471296310424805,
          -17.786102294921875,
          -19.31974983215332,
          -14.155095100402832,
          -19.471296310424805,
          -17.60833740234375,
          -19.481525421142578,
          -17.62990951538086,
          -17.354167938232422,
          -10.106175422668457,
          -14.1687650680542,
          -13.650187492370605,
          20.699413299560547,
          -18.625995635986328,
          -18.342090606689453,
          -19.251853942871094,
          -19.430097579956055,
          -12.951324462890625,
          -18.625995635986328,
          -18.080013275146484,
          -19.237157821655273,
          -18.936044692993164,
          -17.354169845581055,
          -17.931943893432617,
          -2.825915813446045,
          -3.1814677715301514,
          -3.1814677715301514,
          -4.531651496887207,
          -17.95121955871582,
          -17.638837814331055,
          -19.471235275268555,
          -17.822561264038086,
          -8.508869171142578,
          -18.886898040771484,
          -17.66752052307129,
          -13.571435928344727,
          -6.708616256713867,
          -18.772192001342773,
          -18.440174102783203,
          -18.17222785949707,
          -18.040132522583008,
          -20.014911651611328,
          -10.509172439575195,
          -6.913712024688721,
          -11.971611022949219,
          -18.440174102783203,
          -18.894847869873047,
          -7.945158004760742,
          -18.34228515625,
          -18.88553237915039,
          -11.537078857421875,
          3.9502739906311035,
          -2.5846619606018066,
          -18.330429077148438,
          -8.472602844238281,
          -13.60918140411377,
          -9.269124031066895,
          -13.605141639709473,
          -18.02096176147461,
          7.290075302124023,
          -18.342090606689453,
          -8.922720909118652,
          -7.836297035217285,
          -5.808963298797607,
          -7.836410045623779,
          -7.388119697570801,
          -17.470006942749023,
          -10.507729530334473,
          -14.015175819396973,
          -10.106175422668457,
          -9.655716896057129,
          -8.470895767211914,
          -10.521625518798828,
          -13.602252960205078,
          -5.831941604614258,
          -14.545846939086914,
          -13.537361145019531,
          -7.260547161102295,
          -0.14331066608428955,
          23.494068145751953,
          -7.836433410644531,
          -17.776384353637695,
          -10.10617446899414,
          -17.926528930664062,
          20.2580623626709,
          -17.76081657409668,
          -19.029056549072266,
          -12.097919464111328,
          4.706469535827637,
          -14.13867473602295,
          -14.13867473602295,
          -13.605141639709473,
          -19.02924346923828,
          -8.572195053100586,
          3.4102468490600586,
          -9.464312553405762,
          13.546550750732422,
          -8.236258506774902,
          -12.973393440246582,
          25.874048233032227,
          -14.526679992675781,
          -5.035805702209473,
          7.11221981048584,
          5.344831943511963,
          -2.906935930252075,
          -5.80992317199707,
          -8.397403717041016,
          11.37242317199707,
          -9.19115924835205,
          -5.846244812011719,
          -12.97335433959961,
          -7.103813648223877,
          -4.10048770904541,
          -10.606842994689941,
          10.830073356628418,
          16.925182342529297,
          11.535280227661133,
          -12.470429420471191,
          12.471004486083984,
          -12.755826950073242,
          3.9490621089935303,
          11.847427368164062,
          1.6409753561019897,
          -2.3282840251922607,
          4.563265323638916,
          6.336587429046631,
          15.397439956665039,
          -7.721730709075928,
          19.927885055541992,
          -2.325800657272339,
          4.61134147644043,
          11.596747398376465,
          4.171391010284424,
          8.527737617492676,
          -2.325800657272339,
          -4.93019962310791,
          -2.3282837867736816,
          4.251965045928955,
          -12.097919464111328,
          8.895682334899902,
          2.7275617122650146,
          3.395369291305542,
          2.6756985187530518,
          -7.511841297149658,
          17.072214126586914,
          16.571739196777344,
          -3.1343233585357666,
          8.46786117553711,
          -1.7346715927124023,
          11.069841384887695,
          -5.354645252227783,
          4.285279273986816,
          -3.5251734256744385,
          8.218206405639648,
          2.8809242248535156,
          -4.4607720375061035,
          11.189386367797852,
          15.391961097717285,
          3.7336137294769287,
          17.624698638916016,
          4.7711873054504395,
          16.74519157409668,
          27.712491989135742,
          9.603797912597656,
          16.443748474121094,
          5.962915897369385,
          14.626876831054688,
          -3.885650396347046,
          22.251291275024414,
          8.254324913024902,
          -1.3741241693496704,
          16.415964126586914,
          -2.3282840251922607,
          3.7271573543548584,
          7.29007625579834,
          17.957204818725586,
          5.001397609710693,
          -12.579487800598145,
          17.684206008911133,
          16.415964126586914,
          8.572583198547363,
          6.8687334060668945,
          17.268781661987305,
          17.962810516357422,
          6.648574352264404,
          6.2448811531066895,
          24.664833068847656,
          -0.9210624098777771,
          18.791057586669922,
          -0.08819720894098282,
          15.77999210357666,
          4.9354658126831055,
          21.85112762451172,
          8.576095581054688,
          -3.7178759574890137,
          -2.035623788833618,
          7.388811111450195,
          16.90595817565918,
          8.046954154968262,
          16.916545867919922,
          26.086788177490234,
          24.063358306884766,
          16.700347900390625,
          15.747028350830078,
          14.263277053833008,
          7.667208671569824,
          20.886808395385742,
          7.009798049926758,
          22.62160873413086,
          25.688098907470703,
          23.726228713989258,
          12.283637046813965,
          17.593528747558594,
          9.007546424865723,
          16.90595817565918,
          21.54653549194336,
          22.13003158569336,
          5.976519584655762,
          15.603796005249023,
          15.353242874145508,
          16.386554718017578,
          23.961669921875,
          15.5938138961792,
          8.850420951843262,
          17.70075225830078,
          17.903108596801758,
          23.43154525756836,
          20.304933547973633,
          8.176504135131836,
          23.210683822631836,
          23.556026458740234,
          23.026777267456055,
          26.301706314086914,
          20.774919509887695,
          25.676687240600586,
          17.25953483581543,
          27.327396392822266,
          22.666728973388672,
          23.494068145751953,
          26.846893310546875,
          27.410030364990234,
          26.52385902404785,
          18.347789764404297,
          24.3750057220459,
          22.4327392578125,
          26.072864532470703,
          26.35246467590332,
          27.497634887695312,
          27.41762924194336,
          28.850601196289062,
          28.17375373840332,
          26.700599670410156,
          28.224321365356445,
          28.909822463989258,
          28.997989654541016,
          28.971906661987305,
          28.89280128479004,
          28.86664581298828
         ],
         "xaxis": "x",
         "y": [
          -25.09101104736328,
          -5.132523536682129,
          -24.6999568939209,
          -25.27880096435547,
          -2.960613489151001,
          -23.939346313476562,
          -21.595949172973633,
          -25.27880096435547,
          -2.8380889892578125,
          4.6083526611328125,
          -25.28968620300293,
          -21.634553909301758,
          -3.5111045837402344,
          -21.853126525878906,
          -1.6551927328109741,
          -24.558448791503906,
          -20.860464096069336,
          -2.846198320388794,
          -24.63686180114746,
          -24.700429916381836,
          -21.31093978881836,
          -21.3512020111084,
          -2.2430367469787598,
          -24.700429916381836,
          -20.613500595092773,
          -24.01869773864746,
          -20.687978744506836,
          -17.2485408782959,
          -2.016418218612671,
          -3.620448589324951,
          -4.226433753967285,
          9.521651268005371,
          -21.963285446166992,
          -18.475454330444336,
          -23.134733200073242,
          -20.633119583129883,
          -3.312533378601074,
          -21.963285446166992,
          -22.248685836791992,
          -21.853126525878906,
          -21.18943977355957,
          -17.2485408782959,
          -21.555761337280273,
          1.9344136714935303,
          3.2115695476531982,
          3.2115695476531982,
          1.7258591651916504,
          -21.644020080566406,
          -18.290142059326172,
          -24.69940948486328,
          -19.771018981933594,
          -0.34001579880714417,
          -20.142459869384766,
          -18.57076644897461,
          -4.828607559204102,
          -1.307433009147644,
          -19.981809616088867,
          -19.296175003051758,
          -20.360166549682617,
          -17.754161834716797,
          -23.948362350463867,
          -3.2273330688476562,
          0.3457055389881134,
          -2.4116764068603516,
          -19.296175003051758,
          -20.917621612548828,
          -2.712536573410034,
          -18.475391387939453,
          -20.637752532958984,
          -3.4017629623413086,
          5.2043070793151855,
          1.9284110069274902,
          -17.792631149291992,
          -1.6503397226333618,
          -5.393902778625488,
          -2.391059398651123,
          -2.905655860900879,
          -17.459964752197266,
          6.171976566314697,
          -18.475454330444336,
          -2.1161282062530518,
          -1.2444989681243896,
          1.1487520933151245,
          -1.2439621686935425,
          -0.8542848229408264,
          -16.25131607055664,
          -3.227680206298828,
          -5.502270221710205,
          -2.016418218612671,
          -1.5894495248794556,
          -1.6538833379745483,
          -1.3324307203292847,
          -2.9017622470855713,
          2.501455068588257,
          -2.846214771270752,
          -4.733103275299072,
          0.15895289182662964,
          4.1349639892578125,
          10.368241310119629,
          -1.2441070079803467,
          -16.30019187927246,
          -2.016418695449829,
          -19.30550193786621,
          9.11195182800293,
          -16.257577896118164,
          -19.117156982421875,
          -2.532275438308716,
          6.65236234664917,
          -4.495082855224609,
          -4.495083332061768,
          -2.905655860900879,
          -19.116260528564453,
          -0.3723910450935364,
          6.165616512298584,
          -0.09935179352760315,
          7.750173091888428,
          -0.21655167639255524,
          -3.825444459915161,
          11.177380561828613,
          -3.106135129928589,
          1.192107081413269,
          5.920632839202881,
          7.234273433685303,
          3.6061747074127197,
          1.1489511728286743,
          -0.287494033575058,
          8.220980644226074,
          -1.0717731714248657,
          0.9590048789978027,
          -3.8253204822540283,
          -1.745010495185852,
          1.9806050062179565,
          -0.8254262804985046,
          6.940916538238525,
          8.935014724731445,
          6.911673069000244,
          -4.537703514099121,
          7.443099021911621,
          -2.29347825050354,
          6.757375240325928,
          7.914883613586426,
          4.842266082763672,
          3.4261159896850586,
          6.741429328918457,
          5.744983673095703,
          9.35081672668457,
          -1.9249162673950195,
          9.58898639678955,
          3.029566526412964,
          5.27296257019043,
          7.165427207946777,
          5.282625675201416,
          7.8267717361450195,
          3.029566526412964,
          1.2990971803665161,
          3.426114797592163,
          4.877265453338623,
          -2.532275676727295,
          6.033941268920898,
          5.148198127746582,
          5.005441188812256,
          5.769250392913818,
          0.4432697892189026,
          9.693204879760742,
          8.79344654083252,
          2.586339235305786,
          7.118814468383789,
          3.107435941696167,
          7.585755348205566,
          1.1538658142089844,
          6.611114978790283,
          2.9466099739074707,
          5.808532238006592,
          4.794830322265625,
          3.0147147178649902,
          7.821441650390625,
          9.380423545837402,
          5.6140947341918945,
          6.99172306060791,
          6.06534481048584,
          7.343179702758789,
          11.015952110290527,
          6.852399826049805,
          9.580005645751953,
          6.419334888458252,
          7.674299716949463,
          3.3554484844207764,
          10.407517433166504,
          7.8860039710998535,
          3.3126282691955566,
          7.883026599884033,
          3.4261159896850586,
          5.786215782165527,
          6.171976089477539,
          8.337858200073242,
          5.19730281829834,
          -4.246165752410889,
          9.060965538024902,
          7.883026599884033,
          6.459041595458984,
          7.49942684173584,
          7.600346088409424,
          8.342007637023926,
          4.998285293579102,
          5.825842380523682,
          10.518218040466309,
          3.6383323669433594,
          9.597413063049316,
          4.041494369506836,
          7.454341888427734,
          5.99420690536499,
          9.516404151916504,
          6.462408542633057,
          2.221937894821167,
          2.6587514877319336,
          7.068641185760498,
          8.067207336425781,
          6.264120101928711,
          8.858855247497559,
          10.441235542297363,
          9.999039649963379,
          7.997170925140381,
          7.721644401550293,
          8.10466194152832,
          7.771361351013184,
          9.603537559509277,
          6.825684070587158,
          10.366145133972168,
          11.044259071350098,
          9.82347297668457,
          7.841008186340332,
          7.740584373474121,
          6.372039794921875,
          8.067207336425781,
          9.651285171508789,
          9.806788444519043,
          6.505120754241943,
          7.699747085571289,
          8.378083229064941,
          9.048395156860352,
          10.674468040466309,
          8.41075611114502,
          7.424562454223633,
          8.291955947875977,
          9.869647026062012,
          10.733136177062988,
          9.78673267364502,
          6.884909629821777,
          9.66029167175293,
          10.174318313598633,
          9.643925666809082,
          11.1188383102417,
          9.074119567871094,
          10.582708358764648,
          7.212133407592773,
          11.118099212646484,
          9.929105758666992,
          10.368241310119629,
          10.659005165100098,
          10.57844352722168,
          11.182225227355957,
          8.328948020935059,
          10.234753608703613,
          9.526947975158691,
          10.682948112487793,
          10.588910102844238,
          11.024014472961426,
          10.611170768737793,
          9.016243934631348,
          10.46791934967041,
          11.182775497436523,
          10.378838539123535,
          8.804121017456055,
          8.133052825927734,
          8.377023696899414,
          8.882890701293945,
          8.973751068115234
         ],
         "yaxis": "y"
        }
       ],
       "layout": {
        "coloraxis": {
         "colorbar": {
          "title": {
           "text": "cluster"
          }
         },
         "colorscale": [
          [
           0,
           "#636EFA"
          ],
          [
           0.1111111111111111,
           "#EF553B"
          ],
          [
           0.2222222222222222,
           "#00CC96"
          ],
          [
           0.3333333333333333,
           "#AB63FA"
          ],
          [
           0.4444444444444444,
           "#FFA15A"
          ],
          [
           0.5555555555555556,
           "#19D3F3"
          ],
          [
           0.6666666666666666,
           "#FF6692"
          ],
          [
           0.7777777777777778,
           "#B6E880"
          ],
          [
           0.8888888888888888,
           "#FF97FF"
          ],
          [
           1,
           "#FECB52"
          ]
         ]
        },
        "height": 500,
        "legend": {
         "tracegroupgap": 0
        },
        "template": {
         "data": {
          "bar": [
           {
            "error_x": {
             "color": "#2a3f5f"
            },
            "error_y": {
             "color": "#2a3f5f"
            },
            "marker": {
             "line": {
              "color": "#E5ECF6",
              "width": 0.5
             },
             "pattern": {
              "fillmode": "overlay",
              "size": 10,
              "solidity": 0.2
             }
            },
            "type": "bar"
           }
          ],
          "barpolar": [
           {
            "marker": {
             "line": {
              "color": "#E5ECF6",
              "width": 0.5
             },
             "pattern": {
              "fillmode": "overlay",
              "size": 10,
              "solidity": 0.2
             }
            },
            "type": "barpolar"
           }
          ],
          "carpet": [
           {
            "aaxis": {
             "endlinecolor": "#2a3f5f",
             "gridcolor": "white",
             "linecolor": "white",
             "minorgridcolor": "white",
             "startlinecolor": "#2a3f5f"
            },
            "baxis": {
             "endlinecolor": "#2a3f5f",
             "gridcolor": "white",
             "linecolor": "white",
             "minorgridcolor": "white",
             "startlinecolor": "#2a3f5f"
            },
            "type": "carpet"
           }
          ],
          "choropleth": [
           {
            "colorbar": {
             "outlinewidth": 0,
             "ticks": ""
            },
            "type": "choropleth"
           }
          ],
          "contour": [
           {
            "colorbar": {
             "outlinewidth": 0,
             "ticks": ""
            },
            "colorscale": [
             [
              0,
              "#0d0887"
             ],
             [
              0.1111111111111111,
              "#46039f"
             ],
             [
              0.2222222222222222,
              "#7201a8"
             ],
             [
              0.3333333333333333,
              "#9c179e"
             ],
             [
              0.4444444444444444,
              "#bd3786"
             ],
             [
              0.5555555555555556,
              "#d8576b"
             ],
             [
              0.6666666666666666,
              "#ed7953"
             ],
             [
              0.7777777777777778,
              "#fb9f3a"
             ],
             [
              0.8888888888888888,
              "#fdca26"
             ],
             [
              1,
              "#f0f921"
             ]
            ],
            "type": "contour"
           }
          ],
          "contourcarpet": [
           {
            "colorbar": {
             "outlinewidth": 0,
             "ticks": ""
            },
            "type": "contourcarpet"
           }
          ],
          "heatmap": [
           {
            "colorbar": {
             "outlinewidth": 0,
             "ticks": ""
            },
            "colorscale": [
             [
              0,
              "#0d0887"
             ],
             [
              0.1111111111111111,
              "#46039f"
             ],
             [
              0.2222222222222222,
              "#7201a8"
             ],
             [
              0.3333333333333333,
              "#9c179e"
             ],
             [
              0.4444444444444444,
              "#bd3786"
             ],
             [
              0.5555555555555556,
              "#d8576b"
             ],
             [
              0.6666666666666666,
              "#ed7953"
             ],
             [
              0.7777777777777778,
              "#fb9f3a"
             ],
             [
              0.8888888888888888,
              "#fdca26"
             ],
             [
              1,
              "#f0f921"
             ]
            ],
            "type": "heatmap"
           }
          ],
          "heatmapgl": [
           {
            "colorbar": {
             "outlinewidth": 0,
             "ticks": ""
            },
            "colorscale": [
             [
              0,
              "#0d0887"
             ],
             [
              0.1111111111111111,
              "#46039f"
             ],
             [
              0.2222222222222222,
              "#7201a8"
             ],
             [
              0.3333333333333333,
              "#9c179e"
             ],
             [
              0.4444444444444444,
              "#bd3786"
             ],
             [
              0.5555555555555556,
              "#d8576b"
             ],
             [
              0.6666666666666666,
              "#ed7953"
             ],
             [
              0.7777777777777778,
              "#fb9f3a"
             ],
             [
              0.8888888888888888,
              "#fdca26"
             ],
             [
              1,
              "#f0f921"
             ]
            ],
            "type": "heatmapgl"
           }
          ],
          "histogram": [
           {
            "marker": {
             "pattern": {
              "fillmode": "overlay",
              "size": 10,
              "solidity": 0.2
             }
            },
            "type": "histogram"
           }
          ],
          "histogram2d": [
           {
            "colorbar": {
             "outlinewidth": 0,
             "ticks": ""
            },
            "colorscale": [
             [
              0,
              "#0d0887"
             ],
             [
              0.1111111111111111,
              "#46039f"
             ],
             [
              0.2222222222222222,
              "#7201a8"
             ],
             [
              0.3333333333333333,
              "#9c179e"
             ],
             [
              0.4444444444444444,
              "#bd3786"
             ],
             [
              0.5555555555555556,
              "#d8576b"
             ],
             [
              0.6666666666666666,
              "#ed7953"
             ],
             [
              0.7777777777777778,
              "#fb9f3a"
             ],
             [
              0.8888888888888888,
              "#fdca26"
             ],
             [
              1,
              "#f0f921"
             ]
            ],
            "type": "histogram2d"
           }
          ],
          "histogram2dcontour": [
           {
            "colorbar": {
             "outlinewidth": 0,
             "ticks": ""
            },
            "colorscale": [
             [
              0,
              "#0d0887"
             ],
             [
              0.1111111111111111,
              "#46039f"
             ],
             [
              0.2222222222222222,
              "#7201a8"
             ],
             [
              0.3333333333333333,
              "#9c179e"
             ],
             [
              0.4444444444444444,
              "#bd3786"
             ],
             [
              0.5555555555555556,
              "#d8576b"
             ],
             [
              0.6666666666666666,
              "#ed7953"
             ],
             [
              0.7777777777777778,
              "#fb9f3a"
             ],
             [
              0.8888888888888888,
              "#fdca26"
             ],
             [
              1,
              "#f0f921"
             ]
            ],
            "type": "histogram2dcontour"
           }
          ],
          "mesh3d": [
           {
            "colorbar": {
             "outlinewidth": 0,
             "ticks": ""
            },
            "type": "mesh3d"
           }
          ],
          "parcoords": [
           {
            "line": {
             "colorbar": {
              "outlinewidth": 0,
              "ticks": ""
             }
            },
            "type": "parcoords"
           }
          ],
          "pie": [
           {
            "automargin": true,
            "type": "pie"
           }
          ],
          "scatter": [
           {
            "marker": {
             "colorbar": {
              "outlinewidth": 0,
              "ticks": ""
             }
            },
            "type": "scatter"
           }
          ],
          "scatter3d": [
           {
            "line": {
             "colorbar": {
              "outlinewidth": 0,
              "ticks": ""
             }
            },
            "marker": {
             "colorbar": {
              "outlinewidth": 0,
              "ticks": ""
             }
            },
            "type": "scatter3d"
           }
          ],
          "scattercarpet": [
           {
            "marker": {
             "colorbar": {
              "outlinewidth": 0,
              "ticks": ""
             }
            },
            "type": "scattercarpet"
           }
          ],
          "scattergeo": [
           {
            "marker": {
             "colorbar": {
              "outlinewidth": 0,
              "ticks": ""
             }
            },
            "type": "scattergeo"
           }
          ],
          "scattergl": [
           {
            "marker": {
             "colorbar": {
              "outlinewidth": 0,
              "ticks": ""
             }
            },
            "type": "scattergl"
           }
          ],
          "scattermapbox": [
           {
            "marker": {
             "colorbar": {
              "outlinewidth": 0,
              "ticks": ""
             }
            },
            "type": "scattermapbox"
           }
          ],
          "scatterpolar": [
           {
            "marker": {
             "colorbar": {
              "outlinewidth": 0,
              "ticks": ""
             }
            },
            "type": "scatterpolar"
           }
          ],
          "scatterpolargl": [
           {
            "marker": {
             "colorbar": {
              "outlinewidth": 0,
              "ticks": ""
             }
            },
            "type": "scatterpolargl"
           }
          ],
          "scatterternary": [
           {
            "marker": {
             "colorbar": {
              "outlinewidth": 0,
              "ticks": ""
             }
            },
            "type": "scatterternary"
           }
          ],
          "surface": [
           {
            "colorbar": {
             "outlinewidth": 0,
             "ticks": ""
            },
            "colorscale": [
             [
              0,
              "#0d0887"
             ],
             [
              0.1111111111111111,
              "#46039f"
             ],
             [
              0.2222222222222222,
              "#7201a8"
             ],
             [
              0.3333333333333333,
              "#9c179e"
             ],
             [
              0.4444444444444444,
              "#bd3786"
             ],
             [
              0.5555555555555556,
              "#d8576b"
             ],
             [
              0.6666666666666666,
              "#ed7953"
             ],
             [
              0.7777777777777778,
              "#fb9f3a"
             ],
             [
              0.8888888888888888,
              "#fdca26"
             ],
             [
              1,
              "#f0f921"
             ]
            ],
            "type": "surface"
           }
          ],
          "table": [
           {
            "cells": {
             "fill": {
              "color": "#EBF0F8"
             },
             "line": {
              "color": "white"
             }
            },
            "header": {
             "fill": {
              "color": "#C8D4E3"
             },
             "line": {
              "color": "white"
             }
            },
            "type": "table"
           }
          ]
         },
         "layout": {
          "annotationdefaults": {
           "arrowcolor": "#2a3f5f",
           "arrowhead": 0,
           "arrowwidth": 1
          },
          "autotypenumbers": "strict",
          "coloraxis": {
           "colorbar": {
            "outlinewidth": 0,
            "ticks": ""
           }
          },
          "colorscale": {
           "diverging": [
            [
             0,
             "#8e0152"
            ],
            [
             0.1,
             "#c51b7d"
            ],
            [
             0.2,
             "#de77ae"
            ],
            [
             0.3,
             "#f1b6da"
            ],
            [
             0.4,
             "#fde0ef"
            ],
            [
             0.5,
             "#f7f7f7"
            ],
            [
             0.6,
             "#e6f5d0"
            ],
            [
             0.7,
             "#b8e186"
            ],
            [
             0.8,
             "#7fbc41"
            ],
            [
             0.9,
             "#4d9221"
            ],
            [
             1,
             "#276419"
            ]
           ],
           "sequential": [
            [
             0,
             "#0d0887"
            ],
            [
             0.1111111111111111,
             "#46039f"
            ],
            [
             0.2222222222222222,
             "#7201a8"
            ],
            [
             0.3333333333333333,
             "#9c179e"
            ],
            [
             0.4444444444444444,
             "#bd3786"
            ],
            [
             0.5555555555555556,
             "#d8576b"
            ],
            [
             0.6666666666666666,
             "#ed7953"
            ],
            [
             0.7777777777777778,
             "#fb9f3a"
            ],
            [
             0.8888888888888888,
             "#fdca26"
            ],
            [
             1,
             "#f0f921"
            ]
           ],
           "sequentialminus": [
            [
             0,
             "#0d0887"
            ],
            [
             0.1111111111111111,
             "#46039f"
            ],
            [
             0.2222222222222222,
             "#7201a8"
            ],
            [
             0.3333333333333333,
             "#9c179e"
            ],
            [
             0.4444444444444444,
             "#bd3786"
            ],
            [
             0.5555555555555556,
             "#d8576b"
            ],
            [
             0.6666666666666666,
             "#ed7953"
            ],
            [
             0.7777777777777778,
             "#fb9f3a"
            ],
            [
             0.8888888888888888,
             "#fdca26"
            ],
            [
             1,
             "#f0f921"
            ]
           ]
          },
          "colorway": [
           "#636efa",
           "#EF553B",
           "#00cc96",
           "#ab63fa",
           "#FFA15A",
           "#19d3f3",
           "#FF6692",
           "#B6E880",
           "#FF97FF",
           "#FECB52"
          ],
          "font": {
           "color": "#2a3f5f"
          },
          "geo": {
           "bgcolor": "white",
           "lakecolor": "white",
           "landcolor": "#E5ECF6",
           "showlakes": true,
           "showland": true,
           "subunitcolor": "white"
          },
          "hoverlabel": {
           "align": "left"
          },
          "hovermode": "closest",
          "mapbox": {
           "style": "light"
          },
          "paper_bgcolor": "white",
          "plot_bgcolor": "#E5ECF6",
          "polar": {
           "angularaxis": {
            "gridcolor": "white",
            "linecolor": "white",
            "ticks": ""
           },
           "bgcolor": "#E5ECF6",
           "radialaxis": {
            "gridcolor": "white",
            "linecolor": "white",
            "ticks": ""
           }
          },
          "scene": {
           "xaxis": {
            "backgroundcolor": "#E5ECF6",
            "gridcolor": "white",
            "gridwidth": 2,
            "linecolor": "white",
            "showbackground": true,
            "ticks": "",
            "zerolinecolor": "white"
           },
           "yaxis": {
            "backgroundcolor": "#E5ECF6",
            "gridcolor": "white",
            "gridwidth": 2,
            "linecolor": "white",
            "showbackground": true,
            "ticks": "",
            "zerolinecolor": "white"
           },
           "zaxis": {
            "backgroundcolor": "#E5ECF6",
            "gridcolor": "white",
            "gridwidth": 2,
            "linecolor": "white",
            "showbackground": true,
            "ticks": "",
            "zerolinecolor": "white"
           }
          },
          "shapedefaults": {
           "line": {
            "color": "#2a3f5f"
           }
          },
          "ternary": {
           "aaxis": {
            "gridcolor": "white",
            "linecolor": "white",
            "ticks": ""
           },
           "baxis": {
            "gridcolor": "white",
            "linecolor": "white",
            "ticks": ""
           },
           "bgcolor": "#E5ECF6",
           "caxis": {
            "gridcolor": "white",
            "linecolor": "white",
            "ticks": ""
           }
          },
          "title": {
           "x": 0.05
          },
          "xaxis": {
           "automargin": true,
           "gridcolor": "white",
           "linecolor": "white",
           "ticks": "",
           "title": {
            "standoff": 15
           },
           "zerolinecolor": "white",
           "zerolinewidth": 2
          },
          "yaxis": {
           "automargin": true,
           "gridcolor": "white",
           "linecolor": "white",
           "ticks": "",
           "title": {
            "standoff": 15
           },
           "zerolinecolor": "white",
           "zerolinewidth": 2
          }
         }
        },
        "title": {
         "text": "TSNE visualization of House Clusters"
        },
        "width": 800,
        "xaxis": {
         "anchor": "y",
         "domain": [
          0,
          1
         ],
         "title": {
          "text": "x1"
         }
        },
        "yaxis": {
         "anchor": "x",
         "domain": [
          0,
          1
         ],
         "title": {
          "text": "x2"
         }
        }
       }
      },
      "text/html": [
       "<div>                            <div id=\"2e47d4ac-9cb5-4aa7-95e9-767c81a17c1c\" class=\"plotly-graph-div\" style=\"height:500px; width:800px;\"></div>            <script type=\"text/javascript\">                require([\"plotly\"], function(Plotly) {                    window.PLOTLYENV=window.PLOTLYENV || {};                                    if (document.getElementById(\"2e47d4ac-9cb5-4aa7-95e9-767c81a17c1c\")) {                    Plotly.newPlot(                        \"2e47d4ac-9cb5-4aa7-95e9-767c81a17c1c\",                        [{\"hovertemplate\":\"x1=%{x}<br>x2=%{y}<br>cluster=%{marker.color}<extra></extra>\",\"legendgroup\":\"\",\"marker\":{\"color\":[3,0,3,3,0,3,3,3,0,0,3,3,0,3,0,3,3,0,3,3,3,3,0,3,3,3,3,3,0,0,0,4,3,3,3,3,0,3,3,3,3,3,3,0,0,0,0,3,3,3,3,0,3,3,0,0,3,3,3,3,3,0,0,0,3,3,0,3,3,0,4,0,3,0,0,0,0,3,4,3,0,0,0,0,0,3,0,0,0,0,0,0,0,0,0,0,0,0,1,0,3,0,3,4,3,3,0,4,0,0,0,3,0,4,0,4,0,0,1,0,0,4,4,0,0,0,4,0,0,0,0,0,0,4,4,4,0,4,0,4,4,0,0,4,4,4,0,4,0,4,4,4,4,0,0,0,4,0,4,4,4,4,0,4,4,0,4,0,4,0,4,0,4,4,0,4,4,4,4,4,4,1,4,4,4,4,0,1,4,0,4,0,4,4,4,4,0,4,4,4,4,4,4,4,4,1,0,4,0,4,4,4,4,0,0,4,4,4,4,1,1,4,4,4,4,4,4,1,1,1,4,4,4,4,4,1,4,4,4,4,1,4,4,4,4,1,4,4,1,1,1,1,4,1,4,1,1,1,1,1,1,4,1,1,1,1,1,1,2,1,1,1,2,2,2,2,2],\"coloraxis\":\"coloraxis\",\"symbol\":\"circle\"},\"mode\":\"markers\",\"name\":\"\",\"orientation\":\"v\",\"showlegend\":false,\"x\":[-20.476659774780273,-14.861726760864258,-20.35085105895996,-19.893171310424805,-12.55570125579834,-20.06443977355957,-19.239904403686523,-19.893171310424805,-10.016871452331543,1.9490834474563599,-19.62186622619629,-19.964197158813477,-10.461705207824707,-19.237157821655273,-8.470893859863281,-20.115896224975586,-19.138507843017578,-14.545016288757324,-19.811452865600586,-19.471296310424805,-17.786102294921875,-19.31974983215332,-14.155095100402832,-19.471296310424805,-17.60833740234375,-19.481525421142578,-17.62990951538086,-17.354167938232422,-10.106175422668457,-14.1687650680542,-13.650187492370605,20.699413299560547,-18.625995635986328,-18.342090606689453,-19.251853942871094,-19.430097579956055,-12.951324462890625,-18.625995635986328,-18.080013275146484,-19.237157821655273,-18.936044692993164,-17.354169845581055,-17.931943893432617,-2.825915813446045,-3.1814677715301514,-3.1814677715301514,-4.531651496887207,-17.95121955871582,-17.638837814331055,-19.471235275268555,-17.822561264038086,-8.508869171142578,-18.886898040771484,-17.66752052307129,-13.571435928344727,-6.708616256713867,-18.772192001342773,-18.440174102783203,-18.17222785949707,-18.040132522583008,-20.014911651611328,-10.509172439575195,-6.913712024688721,-11.971611022949219,-18.440174102783203,-18.894847869873047,-7.945158004760742,-18.34228515625,-18.88553237915039,-11.537078857421875,3.9502739906311035,-2.5846619606018066,-18.330429077148438,-8.472602844238281,-13.60918140411377,-9.269124031066895,-13.605141639709473,-18.02096176147461,7.290075302124023,-18.342090606689453,-8.922720909118652,-7.836297035217285,-5.808963298797607,-7.836410045623779,-7.388119697570801,-17.470006942749023,-10.507729530334473,-14.015175819396973,-10.106175422668457,-9.655716896057129,-8.470895767211914,-10.521625518798828,-13.602252960205078,-5.831941604614258,-14.545846939086914,-13.537361145019531,-7.260547161102295,-0.14331066608428955,23.494068145751953,-7.836433410644531,-17.776384353637695,-10.10617446899414,-17.926528930664062,20.2580623626709,-17.76081657409668,-19.029056549072266,-12.097919464111328,4.706469535827637,-14.13867473602295,-14.13867473602295,-13.605141639709473,-19.02924346923828,-8.572195053100586,3.4102468490600586,-9.464312553405762,13.546550750732422,-8.236258506774902,-12.973393440246582,25.874048233032227,-14.526679992675781,-5.035805702209473,7.11221981048584,5.344831943511963,-2.906935930252075,-5.80992317199707,-8.397403717041016,11.37242317199707,-9.19115924835205,-5.846244812011719,-12.97335433959961,-7.103813648223877,-4.10048770904541,-10.606842994689941,10.830073356628418,16.925182342529297,11.535280227661133,-12.470429420471191,12.471004486083984,-12.755826950073242,3.9490621089935303,11.847427368164062,1.6409753561019897,-2.3282840251922607,4.563265323638916,6.336587429046631,15.397439956665039,-7.721730709075928,19.927885055541992,-2.325800657272339,4.61134147644043,11.596747398376465,4.171391010284424,8.527737617492676,-2.325800657272339,-4.93019962310791,-2.3282837867736816,4.251965045928955,-12.097919464111328,8.895682334899902,2.7275617122650146,3.395369291305542,2.6756985187530518,-7.511841297149658,17.072214126586914,16.571739196777344,-3.1343233585357666,8.46786117553711,-1.7346715927124023,11.069841384887695,-5.354645252227783,4.285279273986816,-3.5251734256744385,8.218206405639648,2.8809242248535156,-4.4607720375061035,11.189386367797852,15.391961097717285,3.7336137294769287,17.624698638916016,4.7711873054504395,16.74519157409668,27.712491989135742,9.603797912597656,16.443748474121094,5.962915897369385,14.626876831054688,-3.885650396347046,22.251291275024414,8.254324913024902,-1.3741241693496704,16.415964126586914,-2.3282840251922607,3.7271573543548584,7.29007625579834,17.957204818725586,5.001397609710693,-12.579487800598145,17.684206008911133,16.415964126586914,8.572583198547363,6.8687334060668945,17.268781661987305,17.962810516357422,6.648574352264404,6.2448811531066895,24.664833068847656,-0.9210624098777771,18.791057586669922,-0.08819720894098282,15.77999210357666,4.9354658126831055,21.85112762451172,8.576095581054688,-3.7178759574890137,-2.035623788833618,7.388811111450195,16.90595817565918,8.046954154968262,16.916545867919922,26.086788177490234,24.063358306884766,16.700347900390625,15.747028350830078,14.263277053833008,7.667208671569824,20.886808395385742,7.009798049926758,22.62160873413086,25.688098907470703,23.726228713989258,12.283637046813965,17.593528747558594,9.007546424865723,16.90595817565918,21.54653549194336,22.13003158569336,5.976519584655762,15.603796005249023,15.353242874145508,16.386554718017578,23.961669921875,15.5938138961792,8.850420951843262,17.70075225830078,17.903108596801758,23.43154525756836,20.304933547973633,8.176504135131836,23.210683822631836,23.556026458740234,23.026777267456055,26.301706314086914,20.774919509887695,25.676687240600586,17.25953483581543,27.327396392822266,22.666728973388672,23.494068145751953,26.846893310546875,27.410030364990234,26.52385902404785,18.347789764404297,24.3750057220459,22.4327392578125,26.072864532470703,26.35246467590332,27.497634887695312,27.41762924194336,28.850601196289062,28.17375373840332,26.700599670410156,28.224321365356445,28.909822463989258,28.997989654541016,28.971906661987305,28.89280128479004,28.86664581298828],\"xaxis\":\"x\",\"y\":[-25.09101104736328,-5.132523536682129,-24.6999568939209,-25.27880096435547,-2.960613489151001,-23.939346313476562,-21.595949172973633,-25.27880096435547,-2.8380889892578125,4.6083526611328125,-25.28968620300293,-21.634553909301758,-3.5111045837402344,-21.853126525878906,-1.6551927328109741,-24.558448791503906,-20.860464096069336,-2.846198320388794,-24.63686180114746,-24.700429916381836,-21.31093978881836,-21.3512020111084,-2.2430367469787598,-24.700429916381836,-20.613500595092773,-24.01869773864746,-20.687978744506836,-17.2485408782959,-2.016418218612671,-3.620448589324951,-4.226433753967285,9.521651268005371,-21.963285446166992,-18.475454330444336,-23.134733200073242,-20.633119583129883,-3.312533378601074,-21.963285446166992,-22.248685836791992,-21.853126525878906,-21.18943977355957,-17.2485408782959,-21.555761337280273,1.9344136714935303,3.2115695476531982,3.2115695476531982,1.7258591651916504,-21.644020080566406,-18.290142059326172,-24.69940948486328,-19.771018981933594,-0.34001579880714417,-20.142459869384766,-18.57076644897461,-4.828607559204102,-1.307433009147644,-19.981809616088867,-19.296175003051758,-20.360166549682617,-17.754161834716797,-23.948362350463867,-3.2273330688476562,0.3457055389881134,-2.4116764068603516,-19.296175003051758,-20.917621612548828,-2.712536573410034,-18.475391387939453,-20.637752532958984,-3.4017629623413086,5.2043070793151855,1.9284110069274902,-17.792631149291992,-1.6503397226333618,-5.393902778625488,-2.391059398651123,-2.905655860900879,-17.459964752197266,6.171976566314697,-18.475454330444336,-2.1161282062530518,-1.2444989681243896,1.1487520933151245,-1.2439621686935425,-0.8542848229408264,-16.25131607055664,-3.227680206298828,-5.502270221710205,-2.016418218612671,-1.5894495248794556,-1.6538833379745483,-1.3324307203292847,-2.9017622470855713,2.501455068588257,-2.846214771270752,-4.733103275299072,0.15895289182662964,4.1349639892578125,10.368241310119629,-1.2441070079803467,-16.30019187927246,-2.016418695449829,-19.30550193786621,9.11195182800293,-16.257577896118164,-19.117156982421875,-2.532275438308716,6.65236234664917,-4.495082855224609,-4.495083332061768,-2.905655860900879,-19.116260528564453,-0.3723910450935364,6.165616512298584,-0.09935179352760315,7.750173091888428,-0.21655167639255524,-3.825444459915161,11.177380561828613,-3.106135129928589,1.192107081413269,5.920632839202881,7.234273433685303,3.6061747074127197,1.1489511728286743,-0.287494033575058,8.220980644226074,-1.0717731714248657,0.9590048789978027,-3.8253204822540283,-1.745010495185852,1.9806050062179565,-0.8254262804985046,6.940916538238525,8.935014724731445,6.911673069000244,-4.537703514099121,7.443099021911621,-2.29347825050354,6.757375240325928,7.914883613586426,4.842266082763672,3.4261159896850586,6.741429328918457,5.744983673095703,9.35081672668457,-1.9249162673950195,9.58898639678955,3.029566526412964,5.27296257019043,7.165427207946777,5.282625675201416,7.8267717361450195,3.029566526412964,1.2990971803665161,3.426114797592163,4.877265453338623,-2.532275676727295,6.033941268920898,5.148198127746582,5.005441188812256,5.769250392913818,0.4432697892189026,9.693204879760742,8.79344654083252,2.586339235305786,7.118814468383789,3.107435941696167,7.585755348205566,1.1538658142089844,6.611114978790283,2.9466099739074707,5.808532238006592,4.794830322265625,3.0147147178649902,7.821441650390625,9.380423545837402,5.6140947341918945,6.99172306060791,6.06534481048584,7.343179702758789,11.015952110290527,6.852399826049805,9.580005645751953,6.419334888458252,7.674299716949463,3.3554484844207764,10.407517433166504,7.8860039710998535,3.3126282691955566,7.883026599884033,3.4261159896850586,5.786215782165527,6.171976089477539,8.337858200073242,5.19730281829834,-4.246165752410889,9.060965538024902,7.883026599884033,6.459041595458984,7.49942684173584,7.600346088409424,8.342007637023926,4.998285293579102,5.825842380523682,10.518218040466309,3.6383323669433594,9.597413063049316,4.041494369506836,7.454341888427734,5.99420690536499,9.516404151916504,6.462408542633057,2.221937894821167,2.6587514877319336,7.068641185760498,8.067207336425781,6.264120101928711,8.858855247497559,10.441235542297363,9.999039649963379,7.997170925140381,7.721644401550293,8.10466194152832,7.771361351013184,9.603537559509277,6.825684070587158,10.366145133972168,11.044259071350098,9.82347297668457,7.841008186340332,7.740584373474121,6.372039794921875,8.067207336425781,9.651285171508789,9.806788444519043,6.505120754241943,7.699747085571289,8.378083229064941,9.048395156860352,10.674468040466309,8.41075611114502,7.424562454223633,8.291955947875977,9.869647026062012,10.733136177062988,9.78673267364502,6.884909629821777,9.66029167175293,10.174318313598633,9.643925666809082,11.1188383102417,9.074119567871094,10.582708358764648,7.212133407592773,11.118099212646484,9.929105758666992,10.368241310119629,10.659005165100098,10.57844352722168,11.182225227355957,8.328948020935059,10.234753608703613,9.526947975158691,10.682948112487793,10.588910102844238,11.024014472961426,10.611170768737793,9.016243934631348,10.46791934967041,11.182775497436523,10.378838539123535,8.804121017456055,8.133052825927734,8.377023696899414,8.882890701293945,8.973751068115234],\"yaxis\":\"y\",\"type\":\"scatter\"}],                        {\"template\":{\"data\":{\"bar\":[{\"error_x\":{\"color\":\"#2a3f5f\"},\"error_y\":{\"color\":\"#2a3f5f\"},\"marker\":{\"line\":{\"color\":\"#E5ECF6\",\"width\":0.5},\"pattern\":{\"fillmode\":\"overlay\",\"size\":10,\"solidity\":0.2}},\"type\":\"bar\"}],\"barpolar\":[{\"marker\":{\"line\":{\"color\":\"#E5ECF6\",\"width\":0.5},\"pattern\":{\"fillmode\":\"overlay\",\"size\":10,\"solidity\":0.2}},\"type\":\"barpolar\"}],\"carpet\":[{\"aaxis\":{\"endlinecolor\":\"#2a3f5f\",\"gridcolor\":\"white\",\"linecolor\":\"white\",\"minorgridcolor\":\"white\",\"startlinecolor\":\"#2a3f5f\"},\"baxis\":{\"endlinecolor\":\"#2a3f5f\",\"gridcolor\":\"white\",\"linecolor\":\"white\",\"minorgridcolor\":\"white\",\"startlinecolor\":\"#2a3f5f\"},\"type\":\"carpet\"}],\"choropleth\":[{\"colorbar\":{\"outlinewidth\":0,\"ticks\":\"\"},\"type\":\"choropleth\"}],\"contour\":[{\"colorbar\":{\"outlinewidth\":0,\"ticks\":\"\"},\"colorscale\":[[0.0,\"#0d0887\"],[0.1111111111111111,\"#46039f\"],[0.2222222222222222,\"#7201a8\"],[0.3333333333333333,\"#9c179e\"],[0.4444444444444444,\"#bd3786\"],[0.5555555555555556,\"#d8576b\"],[0.6666666666666666,\"#ed7953\"],[0.7777777777777778,\"#fb9f3a\"],[0.8888888888888888,\"#fdca26\"],[1.0,\"#f0f921\"]],\"type\":\"contour\"}],\"contourcarpet\":[{\"colorbar\":{\"outlinewidth\":0,\"ticks\":\"\"},\"type\":\"contourcarpet\"}],\"heatmap\":[{\"colorbar\":{\"outlinewidth\":0,\"ticks\":\"\"},\"colorscale\":[[0.0,\"#0d0887\"],[0.1111111111111111,\"#46039f\"],[0.2222222222222222,\"#7201a8\"],[0.3333333333333333,\"#9c179e\"],[0.4444444444444444,\"#bd3786\"],[0.5555555555555556,\"#d8576b\"],[0.6666666666666666,\"#ed7953\"],[0.7777777777777778,\"#fb9f3a\"],[0.8888888888888888,\"#fdca26\"],[1.0,\"#f0f921\"]],\"type\":\"heatmap\"}],\"heatmapgl\":[{\"colorbar\":{\"outlinewidth\":0,\"ticks\":\"\"},\"colorscale\":[[0.0,\"#0d0887\"],[0.1111111111111111,\"#46039f\"],[0.2222222222222222,\"#7201a8\"],[0.3333333333333333,\"#9c179e\"],[0.4444444444444444,\"#bd3786\"],[0.5555555555555556,\"#d8576b\"],[0.6666666666666666,\"#ed7953\"],[0.7777777777777778,\"#fb9f3a\"],[0.8888888888888888,\"#fdca26\"],[1.0,\"#f0f921\"]],\"type\":\"heatmapgl\"}],\"histogram\":[{\"marker\":{\"pattern\":{\"fillmode\":\"overlay\",\"size\":10,\"solidity\":0.2}},\"type\":\"histogram\"}],\"histogram2d\":[{\"colorbar\":{\"outlinewidth\":0,\"ticks\":\"\"},\"colorscale\":[[0.0,\"#0d0887\"],[0.1111111111111111,\"#46039f\"],[0.2222222222222222,\"#7201a8\"],[0.3333333333333333,\"#9c179e\"],[0.4444444444444444,\"#bd3786\"],[0.5555555555555556,\"#d8576b\"],[0.6666666666666666,\"#ed7953\"],[0.7777777777777778,\"#fb9f3a\"],[0.8888888888888888,\"#fdca26\"],[1.0,\"#f0f921\"]],\"type\":\"histogram2d\"}],\"histogram2dcontour\":[{\"colorbar\":{\"outlinewidth\":0,\"ticks\":\"\"},\"colorscale\":[[0.0,\"#0d0887\"],[0.1111111111111111,\"#46039f\"],[0.2222222222222222,\"#7201a8\"],[0.3333333333333333,\"#9c179e\"],[0.4444444444444444,\"#bd3786\"],[0.5555555555555556,\"#d8576b\"],[0.6666666666666666,\"#ed7953\"],[0.7777777777777778,\"#fb9f3a\"],[0.8888888888888888,\"#fdca26\"],[1.0,\"#f0f921\"]],\"type\":\"histogram2dcontour\"}],\"mesh3d\":[{\"colorbar\":{\"outlinewidth\":0,\"ticks\":\"\"},\"type\":\"mesh3d\"}],\"parcoords\":[{\"line\":{\"colorbar\":{\"outlinewidth\":0,\"ticks\":\"\"}},\"type\":\"parcoords\"}],\"pie\":[{\"automargin\":true,\"type\":\"pie\"}],\"scatter\":[{\"marker\":{\"colorbar\":{\"outlinewidth\":0,\"ticks\":\"\"}},\"type\":\"scatter\"}],\"scatter3d\":[{\"line\":{\"colorbar\":{\"outlinewidth\":0,\"ticks\":\"\"}},\"marker\":{\"colorbar\":{\"outlinewidth\":0,\"ticks\":\"\"}},\"type\":\"scatter3d\"}],\"scattercarpet\":[{\"marker\":{\"colorbar\":{\"outlinewidth\":0,\"ticks\":\"\"}},\"type\":\"scattercarpet\"}],\"scattergeo\":[{\"marker\":{\"colorbar\":{\"outlinewidth\":0,\"ticks\":\"\"}},\"type\":\"scattergeo\"}],\"scattergl\":[{\"marker\":{\"colorbar\":{\"outlinewidth\":0,\"ticks\":\"\"}},\"type\":\"scattergl\"}],\"scattermapbox\":[{\"marker\":{\"colorbar\":{\"outlinewidth\":0,\"ticks\":\"\"}},\"type\":\"scattermapbox\"}],\"scatterpolar\":[{\"marker\":{\"colorbar\":{\"outlinewidth\":0,\"ticks\":\"\"}},\"type\":\"scatterpolar\"}],\"scatterpolargl\":[{\"marker\":{\"colorbar\":{\"outlinewidth\":0,\"ticks\":\"\"}},\"type\":\"scatterpolargl\"}],\"scatterternary\":[{\"marker\":{\"colorbar\":{\"outlinewidth\":0,\"ticks\":\"\"}},\"type\":\"scatterternary\"}],\"surface\":[{\"colorbar\":{\"outlinewidth\":0,\"ticks\":\"\"},\"colorscale\":[[0.0,\"#0d0887\"],[0.1111111111111111,\"#46039f\"],[0.2222222222222222,\"#7201a8\"],[0.3333333333333333,\"#9c179e\"],[0.4444444444444444,\"#bd3786\"],[0.5555555555555556,\"#d8576b\"],[0.6666666666666666,\"#ed7953\"],[0.7777777777777778,\"#fb9f3a\"],[0.8888888888888888,\"#fdca26\"],[1.0,\"#f0f921\"]],\"type\":\"surface\"}],\"table\":[{\"cells\":{\"fill\":{\"color\":\"#EBF0F8\"},\"line\":{\"color\":\"white\"}},\"header\":{\"fill\":{\"color\":\"#C8D4E3\"},\"line\":{\"color\":\"white\"}},\"type\":\"table\"}]},\"layout\":{\"annotationdefaults\":{\"arrowcolor\":\"#2a3f5f\",\"arrowhead\":0,\"arrowwidth\":1},\"autotypenumbers\":\"strict\",\"coloraxis\":{\"colorbar\":{\"outlinewidth\":0,\"ticks\":\"\"}},\"colorscale\":{\"diverging\":[[0,\"#8e0152\"],[0.1,\"#c51b7d\"],[0.2,\"#de77ae\"],[0.3,\"#f1b6da\"],[0.4,\"#fde0ef\"],[0.5,\"#f7f7f7\"],[0.6,\"#e6f5d0\"],[0.7,\"#b8e186\"],[0.8,\"#7fbc41\"],[0.9,\"#4d9221\"],[1,\"#276419\"]],\"sequential\":[[0.0,\"#0d0887\"],[0.1111111111111111,\"#46039f\"],[0.2222222222222222,\"#7201a8\"],[0.3333333333333333,\"#9c179e\"],[0.4444444444444444,\"#bd3786\"],[0.5555555555555556,\"#d8576b\"],[0.6666666666666666,\"#ed7953\"],[0.7777777777777778,\"#fb9f3a\"],[0.8888888888888888,\"#fdca26\"],[1.0,\"#f0f921\"]],\"sequentialminus\":[[0.0,\"#0d0887\"],[0.1111111111111111,\"#46039f\"],[0.2222222222222222,\"#7201a8\"],[0.3333333333333333,\"#9c179e\"],[0.4444444444444444,\"#bd3786\"],[0.5555555555555556,\"#d8576b\"],[0.6666666666666666,\"#ed7953\"],[0.7777777777777778,\"#fb9f3a\"],[0.8888888888888888,\"#fdca26\"],[1.0,\"#f0f921\"]]},\"colorway\":[\"#636efa\",\"#EF553B\",\"#00cc96\",\"#ab63fa\",\"#FFA15A\",\"#19d3f3\",\"#FF6692\",\"#B6E880\",\"#FF97FF\",\"#FECB52\"],\"font\":{\"color\":\"#2a3f5f\"},\"geo\":{\"bgcolor\":\"white\",\"lakecolor\":\"white\",\"landcolor\":\"#E5ECF6\",\"showlakes\":true,\"showland\":true,\"subunitcolor\":\"white\"},\"hoverlabel\":{\"align\":\"left\"},\"hovermode\":\"closest\",\"mapbox\":{\"style\":\"light\"},\"paper_bgcolor\":\"white\",\"plot_bgcolor\":\"#E5ECF6\",\"polar\":{\"angularaxis\":{\"gridcolor\":\"white\",\"linecolor\":\"white\",\"ticks\":\"\"},\"bgcolor\":\"#E5ECF6\",\"radialaxis\":{\"gridcolor\":\"white\",\"linecolor\":\"white\",\"ticks\":\"\"}},\"scene\":{\"xaxis\":{\"backgroundcolor\":\"#E5ECF6\",\"gridcolor\":\"white\",\"gridwidth\":2,\"linecolor\":\"white\",\"showbackground\":true,\"ticks\":\"\",\"zerolinecolor\":\"white\"},\"yaxis\":{\"backgroundcolor\":\"#E5ECF6\",\"gridcolor\":\"white\",\"gridwidth\":2,\"linecolor\":\"white\",\"showbackground\":true,\"ticks\":\"\",\"zerolinecolor\":\"white\"},\"zaxis\":{\"backgroundcolor\":\"#E5ECF6\",\"gridcolor\":\"white\",\"gridwidth\":2,\"linecolor\":\"white\",\"showbackground\":true,\"ticks\":\"\",\"zerolinecolor\":\"white\"}},\"shapedefaults\":{\"line\":{\"color\":\"#2a3f5f\"}},\"ternary\":{\"aaxis\":{\"gridcolor\":\"white\",\"linecolor\":\"white\",\"ticks\":\"\"},\"baxis\":{\"gridcolor\":\"white\",\"linecolor\":\"white\",\"ticks\":\"\"},\"bgcolor\":\"#E5ECF6\",\"caxis\":{\"gridcolor\":\"white\",\"linecolor\":\"white\",\"ticks\":\"\"}},\"title\":{\"x\":0.05},\"xaxis\":{\"automargin\":true,\"gridcolor\":\"white\",\"linecolor\":\"white\",\"ticks\":\"\",\"title\":{\"standoff\":15},\"zerolinecolor\":\"white\",\"zerolinewidth\":2},\"yaxis\":{\"automargin\":true,\"gridcolor\":\"white\",\"linecolor\":\"white\",\"ticks\":\"\",\"title\":{\"standoff\":15},\"zerolinecolor\":\"white\",\"zerolinewidth\":2}}},\"xaxis\":{\"anchor\":\"y\",\"domain\":[0.0,1.0],\"title\":{\"text\":\"x1\"}},\"yaxis\":{\"anchor\":\"x\",\"domain\":[0.0,1.0],\"title\":{\"text\":\"x2\"}},\"coloraxis\":{\"colorbar\":{\"title\":{\"text\":\"cluster\"}},\"colorscale\":[[0.0,\"#636EFA\"],[0.1111111111111111,\"#EF553B\"],[0.2222222222222222,\"#00CC96\"],[0.3333333333333333,\"#AB63FA\"],[0.4444444444444444,\"#FFA15A\"],[0.5555555555555556,\"#19D3F3\"],[0.6666666666666666,\"#FF6692\"],[0.7777777777777778,\"#B6E880\"],[0.8888888888888888,\"#FF97FF\"],[1.0,\"#FECB52\"]]},\"legend\":{\"tracegroupgap\":0},\"title\":{\"text\":\"TSNE visualization of House Clusters\"},\"height\":500,\"width\":800},                        {\"responsive\": true}                    ).then(function(){\n",
       "                            \n",
       "var gd = document.getElementById('2e47d4ac-9cb5-4aa7-95e9-767c81a17c1c');\n",
       "var x = new MutationObserver(function (mutations, observer) {{\n",
       "        var display = window.getComputedStyle(gd).display;\n",
       "        if (!display || display === 'none') {{\n",
       "            console.log([gd, 'removed!']);\n",
       "            Plotly.purge(gd);\n",
       "            observer.disconnect();\n",
       "        }}\n",
       "}});\n",
       "\n",
       "// Listen for the removal of the full notebook cells\n",
       "var notebookContainer = gd.closest('#notebook-container');\n",
       "if (notebookContainer) {{\n",
       "    x.observe(notebookContainer, {childList: true});\n",
       "}}\n",
       "\n",
       "// Listen for the clearing of the current output cell\n",
       "var outputEl = gd.closest('.output');\n",
       "if (outputEl) {{\n",
       "    x.observe(outputEl, {childList: true});\n",
       "}}\n",
       "\n",
       "                        })                };                });            </script>        </div>"
      ]
     },
     "metadata": {},
     "output_type": "display_data"
    }
   ],
   "source": [
    "#XTSNEdf = pd.concat([pd.DataFrame(XTSNE),pd.DataFrame(Xkmeans),pd.DataFrame(y),pd.DataFrame(np.expm1(y))],axis=1)\n",
    "XTSNEdf = pd.concat([pd.DataFrame(XTSNE),pd.DataFrame(Xkmeans),pd.DataFrame(y)],axis=1)\n",
    "XTSNEdf.columns = ['x1','x2','cluster','price']\n",
    "px.scatter(XTSNEdf,x='x1',y='x2',color='cluster',color_continuous_scale=px.colors.qualitative.Plotly,title=\"TSNE visualization of House Clusters\",width=800,height=500)"
   ]
  },
  {
   "cell_type": "code",
   "execution_count": 27,
   "id": "c1699fa2",
   "metadata": {},
   "outputs": [
    {
     "data": {
      "text/plain": [
       "array([[22, 31, 23,  3, 11,  1],\n",
       "       [14,  2, 15,  0,  2,  0],\n",
       "       [ 3,  1,  2,  0,  0,  0],\n",
       "       [14, 20, 20,  0,  0,  0],\n",
       "       [19, 33, 32,  0,  5,  4],\n",
       "       [ 0,  0,  0,  0,  0,  0]], dtype=int32)"
      ]
     },
     "execution_count": 27,
     "metadata": {},
     "output_type": "execute_result"
    }
   ],
   "source": [
    "districts = ndf.district\n",
    "clusters = XTSNEdf.cluster\n",
    "data = np.zeros((6,6), dtype = 'int32')\n",
    "for i in range(len(clusters)):\n",
    "    data[clusters[i],districts[i]] += 1\n",
    "data"
   ]
  },
  {
   "cell_type": "code",
   "execution_count": 138,
   "id": "dfc70771",
   "metadata": {},
   "outputs": [
    {
     "name": "stdout",
     "output_type": "stream",
     "text": [
      "0 90 1.4444444444444444\n",
      "1 33 1.2121212121212122\n",
      "2 6 0.8333333333333334\n",
      "3 54 1.1111111111111112\n",
      "4 89 1.3146067415730338\n"
     ]
    }
   ],
   "source": [
    "s, n = 0, 0\n",
    "for i in range(5):\n",
    "    for j in range(5):\n",
    "        n += data[i,j]\n",
    "        s += j * data[i,j]\n",
    "    print(i, n, float(s)/n)\n",
    "    s, n = 0, 0\n"
   ]
  }
 ],
 "metadata": {
  "kernelspec": {
   "display_name": "Python 3 (ipykernel)",
   "language": "python",
   "name": "python3"
  },
  "language_info": {
   "codemirror_mode": {
    "name": "ipython",
    "version": 3
   },
   "file_extension": ".py",
   "mimetype": "text/x-python",
   "name": "python",
   "nbconvert_exporter": "python",
   "pygments_lexer": "ipython3",
   "version": "3.10.6"
  }
 },
 "nbformat": 4,
 "nbformat_minor": 5
}
